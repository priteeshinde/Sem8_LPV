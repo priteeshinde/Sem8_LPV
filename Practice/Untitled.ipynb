{
 "cells": [
  {
   "cell_type": "code",
   "execution_count": 1,
   "id": "280db8e9",
   "metadata": {},
   "outputs": [
    {
     "name": "stdout",
     "output_type": "stream",
     "text": [
      "WARNING:tensorflow:From C:\\Users\\HP\\anaconda3\\lib\\site-packages\\keras\\src\\losses.py:2976: The name tf.losses.sparse_softmax_cross_entropy is deprecated. Please use tf.compat.v1.losses.sparse_softmax_cross_entropy instead.\n",
      "\n"
     ]
    }
   ],
   "source": [
    "import pandas as pd\n",
    "import numpy as np\n",
    "import tensorflow as tf"
   ]
  },
  {
   "cell_type": "code",
   "execution_count": 2,
   "id": "c5e6c33b",
   "metadata": {},
   "outputs": [
    {
     "data": {
      "text/html": [
       "<div>\n",
       "<style scoped>\n",
       "    .dataframe tbody tr th:only-of-type {\n",
       "        vertical-align: middle;\n",
       "    }\n",
       "\n",
       "    .dataframe tbody tr th {\n",
       "        vertical-align: top;\n",
       "    }\n",
       "\n",
       "    .dataframe thead th {\n",
       "        text-align: right;\n",
       "    }\n",
       "</style>\n",
       "<table border=\"1\" class=\"dataframe\">\n",
       "  <thead>\n",
       "    <tr style=\"text-align: right;\">\n",
       "      <th></th>\n",
       "      <th>crim</th>\n",
       "      <th>zn</th>\n",
       "      <th>indus</th>\n",
       "      <th>chas</th>\n",
       "      <th>nox</th>\n",
       "      <th>rm</th>\n",
       "      <th>age</th>\n",
       "      <th>dis</th>\n",
       "      <th>rad</th>\n",
       "      <th>tax</th>\n",
       "      <th>ptratio</th>\n",
       "      <th>b</th>\n",
       "      <th>lstat</th>\n",
       "      <th>MEDV</th>\n",
       "    </tr>\n",
       "  </thead>\n",
       "  <tbody>\n",
       "    <tr>\n",
       "      <th>0</th>\n",
       "      <td>0.00632</td>\n",
       "      <td>18.0</td>\n",
       "      <td>2.31</td>\n",
       "      <td>0</td>\n",
       "      <td>0.538</td>\n",
       "      <td>6.575</td>\n",
       "      <td>65.2</td>\n",
       "      <td>4.0900</td>\n",
       "      <td>1</td>\n",
       "      <td>296</td>\n",
       "      <td>15.3</td>\n",
       "      <td>396.90</td>\n",
       "      <td>4.98</td>\n",
       "      <td>24.0</td>\n",
       "    </tr>\n",
       "    <tr>\n",
       "      <th>1</th>\n",
       "      <td>0.02731</td>\n",
       "      <td>0.0</td>\n",
       "      <td>7.07</td>\n",
       "      <td>0</td>\n",
       "      <td>0.469</td>\n",
       "      <td>6.421</td>\n",
       "      <td>78.9</td>\n",
       "      <td>4.9671</td>\n",
       "      <td>2</td>\n",
       "      <td>242</td>\n",
       "      <td>17.8</td>\n",
       "      <td>396.90</td>\n",
       "      <td>9.14</td>\n",
       "      <td>21.6</td>\n",
       "    </tr>\n",
       "    <tr>\n",
       "      <th>2</th>\n",
       "      <td>0.02729</td>\n",
       "      <td>0.0</td>\n",
       "      <td>7.07</td>\n",
       "      <td>0</td>\n",
       "      <td>0.469</td>\n",
       "      <td>7.185</td>\n",
       "      <td>61.1</td>\n",
       "      <td>4.9671</td>\n",
       "      <td>2</td>\n",
       "      <td>242</td>\n",
       "      <td>17.8</td>\n",
       "      <td>392.83</td>\n",
       "      <td>4.03</td>\n",
       "      <td>34.7</td>\n",
       "    </tr>\n",
       "    <tr>\n",
       "      <th>3</th>\n",
       "      <td>0.03237</td>\n",
       "      <td>0.0</td>\n",
       "      <td>2.18</td>\n",
       "      <td>0</td>\n",
       "      <td>0.458</td>\n",
       "      <td>6.998</td>\n",
       "      <td>45.8</td>\n",
       "      <td>6.0622</td>\n",
       "      <td>3</td>\n",
       "      <td>222</td>\n",
       "      <td>18.7</td>\n",
       "      <td>394.63</td>\n",
       "      <td>2.94</td>\n",
       "      <td>33.4</td>\n",
       "    </tr>\n",
       "    <tr>\n",
       "      <th>4</th>\n",
       "      <td>0.06905</td>\n",
       "      <td>0.0</td>\n",
       "      <td>2.18</td>\n",
       "      <td>0</td>\n",
       "      <td>0.458</td>\n",
       "      <td>7.147</td>\n",
       "      <td>54.2</td>\n",
       "      <td>6.0622</td>\n",
       "      <td>3</td>\n",
       "      <td>222</td>\n",
       "      <td>18.7</td>\n",
       "      <td>396.90</td>\n",
       "      <td>5.33</td>\n",
       "      <td>36.2</td>\n",
       "    </tr>\n",
       "  </tbody>\n",
       "</table>\n",
       "</div>"
      ],
      "text/plain": [
       "      crim    zn  indus  chas    nox     rm   age     dis  rad  tax  ptratio  \\\n",
       "0  0.00632  18.0   2.31     0  0.538  6.575  65.2  4.0900    1  296     15.3   \n",
       "1  0.02731   0.0   7.07     0  0.469  6.421  78.9  4.9671    2  242     17.8   \n",
       "2  0.02729   0.0   7.07     0  0.469  7.185  61.1  4.9671    2  242     17.8   \n",
       "3  0.03237   0.0   2.18     0  0.458  6.998  45.8  6.0622    3  222     18.7   \n",
       "4  0.06905   0.0   2.18     0  0.458  7.147  54.2  6.0622    3  222     18.7   \n",
       "\n",
       "        b  lstat  MEDV  \n",
       "0  396.90   4.98  24.0  \n",
       "1  396.90   9.14  21.6  \n",
       "2  392.83   4.03  34.7  \n",
       "3  394.63   2.94  33.4  \n",
       "4  396.90   5.33  36.2  "
      ]
     },
     "execution_count": 2,
     "metadata": {},
     "output_type": "execute_result"
    }
   ],
   "source": [
    "df=pd.read_csv('1_boston_housing.csv')\n",
    "df.head()"
   ]
  },
  {
   "cell_type": "code",
   "execution_count": 3,
   "id": "3449cd4d",
   "metadata": {},
   "outputs": [
    {
     "data": {
      "text/plain": [
       "crim       0\n",
       "zn         0\n",
       "indus      0\n",
       "chas       0\n",
       "nox        0\n",
       "rm         0\n",
       "age        0\n",
       "dis        0\n",
       "rad        0\n",
       "tax        0\n",
       "ptratio    0\n",
       "b          0\n",
       "lstat      0\n",
       "MEDV       0\n",
       "dtype: int64"
      ]
     },
     "execution_count": 3,
     "metadata": {},
     "output_type": "execute_result"
    }
   ],
   "source": [
    "df.isnull().sum()"
   ]
  },
  {
   "cell_type": "code",
   "execution_count": 4,
   "id": "d3d2df34",
   "metadata": {},
   "outputs": [
    {
     "data": {
      "text/plain": [
       "crim         3.613524\n",
       "zn          11.363636\n",
       "indus       11.136779\n",
       "chas         0.069170\n",
       "nox          0.554695\n",
       "rm           6.284634\n",
       "age         68.574901\n",
       "dis          3.795043\n",
       "rad          9.549407\n",
       "tax        408.237154\n",
       "ptratio     18.455534\n",
       "b          356.674032\n",
       "lstat       12.653063\n",
       "MEDV        22.532806\n",
       "dtype: float64"
      ]
     },
     "execution_count": 4,
     "metadata": {},
     "output_type": "execute_result"
    }
   ],
   "source": [
    "df.mean()"
   ]
  },
  {
   "cell_type": "code",
   "execution_count": 5,
   "id": "7e9b8c04",
   "metadata": {},
   "outputs": [],
   "source": [
    "df.fillna(df.mean(), inplace=True)"
   ]
  },
  {
   "cell_type": "code",
   "execution_count": 6,
   "id": "d861c3e3",
   "metadata": {},
   "outputs": [],
   "source": [
    "x=df.drop('MEDV',axis=1)\n",
    "y=df['MEDV']"
   ]
  },
  {
   "cell_type": "code",
   "execution_count": 8,
   "id": "195872b1",
   "metadata": {},
   "outputs": [
    {
     "name": "stdout",
     "output_type": "stream",
     "text": [
      "Shape of scaled x_train:  (354, 13)\n",
      "Shape of scaled x_test:  (152, 13)\n"
     ]
    }
   ],
   "source": [
    "from sklearn.model_selection import train_test_split\n",
    "from sklearn.preprocessing import MinMaxScaler\n",
    "x_train, x_test, y_train, y_test=train_test_split(x,y, test_size=0.3)\n",
    "scale=MinMaxScaler()\n",
    "x_train_scaled=scale.fit_transform(x_train)\n",
    "x_test_scaled=scale.fit_transform(x_test)\n",
    "print(\"Shape of scaled x_train: \",x_train_scaled.shape)\n",
    "print(\"Shape of scaled x_test: \",x_test_scaled.shape)"
   ]
  },
  {
   "cell_type": "code",
   "execution_count": 9,
   "id": "e58701df",
   "metadata": {},
   "outputs": [
    {
     "data": {
      "text/plain": [
       "array([1.84000520e-04, 5.50000000e-01, 1.21700880e-01, 0.00000000e+00,\n",
       "       2.03703704e-01, 6.00689787e-01, 5.36170213e-01, 4.18527039e-01,\n",
       "       1.73913043e-01, 3.49236641e-01, 5.31914894e-01, 1.00000000e+00,\n",
       "       1.54609929e-01])"
      ]
     },
     "execution_count": 9,
     "metadata": {},
     "output_type": "execute_result"
    }
   ],
   "source": [
    "x_train_scaled[0]"
   ]
  },
  {
   "cell_type": "code",
   "execution_count": 10,
   "id": "e608b7b3",
   "metadata": {},
   "outputs": [
    {
     "data": {
      "text/plain": [
       "array([0.00195926, 0.        , 1.        , 0.        , 0.46090535,\n",
       "       0.35504886, 0.98191489, 0.05690695, 0.13043478, 1.        ,\n",
       "       0.79787234, 0.86673559, 0.63092199])"
      ]
     },
     "execution_count": 10,
     "metadata": {},
     "output_type": "execute_result"
    }
   ],
   "source": [
    "x_train_scaled[3]"
   ]
  },
  {
   "cell_type": "code",
   "execution_count": 12,
   "id": "4d886316",
   "metadata": {},
   "outputs": [
    {
     "data": {
      "text/plain": [
       "(13,)"
      ]
     },
     "execution_count": 12,
     "metadata": {},
     "output_type": "execute_result"
    }
   ],
   "source": [
    "x_train_scaled[0].shape"
   ]
  },
  {
   "cell_type": "code",
   "execution_count": 18,
   "id": "a89b9e33",
   "metadata": {},
   "outputs": [],
   "source": [
    "from tensorflow.keras.models import Sequential\n",
    "from tensorflow.keras.layers import *\n",
    "\n",
    "def house_price_prediction():\n",
    "    model = Sequential()\n",
    "    model.add(Dense(128, activation='relu', input_shape=(x_train_scaled[3].shape)))\n",
    "    model.add(Dense(64, activation='relu'))\n",
    "    model.add(Dense(32, activation='relu'))\n",
    "    model.add(Dense(16, activation='relu'))\n",
    "    model.add(Dense(1))\n",
    "    model.compile(optimizer='adam', loss='mse', metrics=['mae'])\n",
    "    return model"
   ]
  },
  {
   "cell_type": "code",
   "execution_count": 19,
   "id": "32884dfc",
   "metadata": {},
   "outputs": [
    {
     "name": "stdout",
     "output_type": "stream",
     "text": [
      "WARNING:tensorflow:From C:\\Users\\HP\\anaconda3\\lib\\site-packages\\keras\\src\\optimizers\\__init__.py:309: The name tf.train.Optimizer is deprecated. Please use tf.compat.v1.train.Optimizer instead.\n",
      "\n",
      "Epoch 1/100\n",
      "WARNING:tensorflow:From C:\\Users\\HP\\anaconda3\\lib\\site-packages\\keras\\src\\utils\\tf_utils.py:492: The name tf.ragged.RaggedTensorValue is deprecated. Please use tf.compat.v1.ragged.RaggedTensorValue instead.\n",
      "\n",
      "WARNING:tensorflow:From C:\\Users\\HP\\anaconda3\\lib\\site-packages\\keras\\src\\engine\\base_layer_utils.py:384: The name tf.executing_eagerly_outside_functions is deprecated. Please use tf.compat.v1.executing_eagerly_outside_functions instead.\n",
      "\n",
      "354/354 [==============================] - 3s 3ms/step - loss: 135.8015 - mae: 8.1629 - val_loss: 51.7227 - val_mae: 4.6161\n",
      "Epoch 2/100\n",
      "354/354 [==============================] - 1s 2ms/step - loss: 43.5824 - mae: 4.8204 - val_loss: 31.7300 - val_mae: 3.7559\n",
      "Epoch 3/100\n",
      "354/354 [==============================] - 1s 2ms/step - loss: 28.1106 - mae: 3.9227 - val_loss: 22.1892 - val_mae: 2.8093\n",
      "Epoch 4/100\n",
      "354/354 [==============================] - 1s 2ms/step - loss: 21.5082 - mae: 3.3965 - val_loss: 22.0395 - val_mae: 2.7569\n",
      "Epoch 5/100\n",
      "354/354 [==============================] - 1s 3ms/step - loss: 19.2004 - mae: 3.2056 - val_loss: 20.0522 - val_mae: 2.8325\n",
      "Epoch 6/100\n",
      "354/354 [==============================] - 1s 3ms/step - loss: 17.5427 - mae: 2.9898 - val_loss: 24.9819 - val_mae: 2.9679\n",
      "Epoch 7/100\n",
      "354/354 [==============================] - 1s 3ms/step - loss: 17.8009 - mae: 3.0002 - val_loss: 23.0902 - val_mae: 2.9938\n",
      "Epoch 8/100\n",
      "354/354 [==============================] - 1s 3ms/step - loss: 16.3114 - mae: 2.9056 - val_loss: 18.5755 - val_mae: 2.5863\n",
      "Epoch 9/100\n",
      "354/354 [==============================] - 1s 2ms/step - loss: 15.7869 - mae: 2.7911 - val_loss: 18.7663 - val_mae: 2.7857\n",
      "Epoch 10/100\n",
      "354/354 [==============================] - 1s 2ms/step - loss: 14.5000 - mae: 2.7166 - val_loss: 17.5702 - val_mae: 2.6510\n",
      "Epoch 11/100\n",
      "354/354 [==============================] - 1s 3ms/step - loss: 14.6811 - mae: 2.6770 - val_loss: 16.1100 - val_mae: 2.5950\n",
      "Epoch 12/100\n",
      "354/354 [==============================] - 1s 2ms/step - loss: 14.7943 - mae: 2.7372 - val_loss: 18.2492 - val_mae: 2.6971\n",
      "Epoch 13/100\n",
      "354/354 [==============================] - 1s 2ms/step - loss: 13.3224 - mae: 2.5604 - val_loss: 18.9892 - val_mae: 2.8375\n",
      "Epoch 14/100\n",
      "354/354 [==============================] - 1s 2ms/step - loss: 13.4282 - mae: 2.6637 - val_loss: 17.0675 - val_mae: 2.4984\n",
      "Epoch 15/100\n",
      "354/354 [==============================] - 1s 2ms/step - loss: 12.1287 - mae: 2.5031 - val_loss: 18.2619 - val_mae: 2.6213\n",
      "Epoch 16/100\n",
      "354/354 [==============================] - 1s 2ms/step - loss: 12.9674 - mae: 2.5314 - val_loss: 15.0909 - val_mae: 2.6889\n",
      "Epoch 17/100\n",
      "354/354 [==============================] - 1s 2ms/step - loss: 12.0292 - mae: 2.5396 - val_loss: 16.2329 - val_mae: 2.4518\n",
      "Epoch 18/100\n",
      "354/354 [==============================] - 1s 2ms/step - loss: 10.7136 - mae: 2.3963 - val_loss: 16.5198 - val_mae: 2.7327\n",
      "Epoch 19/100\n",
      "354/354 [==============================] - 1s 2ms/step - loss: 11.2832 - mae: 2.3634 - val_loss: 15.4807 - val_mae: 2.4290\n",
      "Epoch 20/100\n",
      "354/354 [==============================] - 1s 2ms/step - loss: 12.5638 - mae: 2.6009 - val_loss: 17.5706 - val_mae: 2.7366\n",
      "Epoch 21/100\n",
      "354/354 [==============================] - 1s 2ms/step - loss: 11.1367 - mae: 2.4121 - val_loss: 26.7950 - val_mae: 3.6826\n",
      "Epoch 22/100\n",
      "354/354 [==============================] - 1s 2ms/step - loss: 10.6305 - mae: 2.4169 - val_loss: 18.2775 - val_mae: 2.9990\n",
      "Epoch 23/100\n",
      "354/354 [==============================] - 1s 2ms/step - loss: 10.9747 - mae: 2.4919 - val_loss: 14.5044 - val_mae: 2.4640\n",
      "Epoch 24/100\n",
      "354/354 [==============================] - 1s 2ms/step - loss: 10.2916 - mae: 2.2726 - val_loss: 16.5278 - val_mae: 2.8937\n",
      "Epoch 25/100\n",
      "354/354 [==============================] - 1s 2ms/step - loss: 11.0806 - mae: 2.4486 - val_loss: 19.9182 - val_mae: 2.9897\n",
      "Epoch 26/100\n",
      "354/354 [==============================] - 1s 2ms/step - loss: 10.0599 - mae: 2.2883 - val_loss: 17.4799 - val_mae: 2.6164\n",
      "Epoch 27/100\n",
      "354/354 [==============================] - 1s 2ms/step - loss: 8.8653 - mae: 2.1565 - val_loss: 17.2102 - val_mae: 2.6787\n",
      "Epoch 28/100\n",
      "354/354 [==============================] - 1s 2ms/step - loss: 9.6855 - mae: 2.3351 - val_loss: 19.2975 - val_mae: 2.8864\n",
      "Epoch 29/100\n",
      "354/354 [==============================] - 1s 2ms/step - loss: 8.8212 - mae: 2.2267 - val_loss: 16.2726 - val_mae: 2.5562\n",
      "Epoch 30/100\n",
      "354/354 [==============================] - 1s 2ms/step - loss: 8.4580 - mae: 2.2158 - val_loss: 16.7644 - val_mae: 2.7311\n",
      "Epoch 31/100\n",
      "354/354 [==============================] - 1s 2ms/step - loss: 8.9782 - mae: 2.2514 - val_loss: 17.0790 - val_mae: 2.6550\n",
      "Epoch 32/100\n",
      "354/354 [==============================] - 1s 2ms/step - loss: 9.2842 - mae: 2.2027 - val_loss: 16.0680 - val_mae: 2.4494\n",
      "Epoch 33/100\n",
      "354/354 [==============================] - 1s 3ms/step - loss: 8.4902 - mae: 2.1598 - val_loss: 20.6843 - val_mae: 2.9510\n",
      "Epoch 34/100\n",
      "354/354 [==============================] - 1s 3ms/step - loss: 7.9527 - mae: 2.1218 - val_loss: 15.9384 - val_mae: 2.6427\n",
      "Epoch 35/100\n",
      "354/354 [==============================] - 1s 2ms/step - loss: 6.8921 - mae: 1.9724 - val_loss: 19.3646 - val_mae: 2.8285\n",
      "Epoch 36/100\n",
      "354/354 [==============================] - 1s 3ms/step - loss: 7.3598 - mae: 2.0137 - val_loss: 17.7195 - val_mae: 2.8479\n",
      "Epoch 37/100\n",
      "354/354 [==============================] - 1s 2ms/step - loss: 7.8197 - mae: 2.0813 - val_loss: 19.4839 - val_mae: 2.9430\n",
      "Epoch 38/100\n",
      "354/354 [==============================] - 1s 3ms/step - loss: 8.4533 - mae: 2.1940 - val_loss: 16.3257 - val_mae: 2.6156\n",
      "Epoch 39/100\n",
      "354/354 [==============================] - 1s 3ms/step - loss: 6.7786 - mae: 1.9805 - val_loss: 24.9401 - val_mae: 3.4210\n",
      "Epoch 40/100\n",
      "354/354 [==============================] - 1s 3ms/step - loss: 8.6213 - mae: 2.2800 - val_loss: 14.1306 - val_mae: 2.4172\n",
      "Epoch 41/100\n",
      "354/354 [==============================] - 1s 3ms/step - loss: 6.9178 - mae: 1.9699 - val_loss: 17.3604 - val_mae: 2.8272\n",
      "Epoch 42/100\n",
      "354/354 [==============================] - 1s 2ms/step - loss: 8.3602 - mae: 2.1474 - val_loss: 18.2392 - val_mae: 2.8383\n",
      "Epoch 43/100\n",
      "354/354 [==============================] - 1s 2ms/step - loss: 7.2670 - mae: 1.9890 - val_loss: 16.9087 - val_mae: 2.5077\n",
      "Epoch 44/100\n",
      "354/354 [==============================] - 1s 2ms/step - loss: 6.5315 - mae: 1.9376 - val_loss: 14.5801 - val_mae: 2.5565\n",
      "Epoch 45/100\n",
      "354/354 [==============================] - 1s 2ms/step - loss: 7.8619 - mae: 2.1102 - val_loss: 16.9294 - val_mae: 2.9181\n",
      "Epoch 46/100\n",
      "354/354 [==============================] - 1s 2ms/step - loss: 6.9993 - mae: 2.0212 - val_loss: 18.2198 - val_mae: 2.7577\n",
      "Epoch 47/100\n",
      "354/354 [==============================] - 1s 3ms/step - loss: 7.6130 - mae: 2.0485 - val_loss: 20.9751 - val_mae: 3.0113\n",
      "Epoch 48/100\n",
      "354/354 [==============================] - 1s 2ms/step - loss: 6.9210 - mae: 2.0129 - val_loss: 19.2416 - val_mae: 2.8934\n",
      "Epoch 49/100\n",
      "354/354 [==============================] - 1s 3ms/step - loss: 6.4348 - mae: 1.8836 - val_loss: 16.6271 - val_mae: 2.8970\n",
      "Epoch 50/100\n",
      "354/354 [==============================] - 1s 2ms/step - loss: 8.2867 - mae: 2.1485 - val_loss: 24.5890 - val_mae: 3.2588\n",
      "Epoch 51/100\n",
      "354/354 [==============================] - 1s 2ms/step - loss: 5.9522 - mae: 1.8371 - val_loss: 16.8519 - val_mae: 2.5239\n",
      "Epoch 52/100\n",
      "354/354 [==============================] - 1s 3ms/step - loss: 6.3196 - mae: 1.9292 - val_loss: 14.7440 - val_mae: 2.4578\n",
      "Epoch 53/100\n",
      "354/354 [==============================] - 1s 2ms/step - loss: 7.3301 - mae: 2.0694 - val_loss: 14.6659 - val_mae: 2.4708\n",
      "Epoch 54/100\n",
      "354/354 [==============================] - 1s 2ms/step - loss: 6.3374 - mae: 1.8993 - val_loss: 15.7032 - val_mae: 2.4343\n",
      "Epoch 55/100\n",
      "354/354 [==============================] - 1s 2ms/step - loss: 6.1010 - mae: 1.9010 - val_loss: 14.6138 - val_mae: 2.4101\n",
      "Epoch 56/100\n",
      "354/354 [==============================] - 1s 2ms/step - loss: 6.0547 - mae: 1.8810 - val_loss: 19.0615 - val_mae: 2.6641\n"
     ]
    },
    {
     "name": "stdout",
     "output_type": "stream",
     "text": [
      "Epoch 57/100\n",
      "354/354 [==============================] - 1s 2ms/step - loss: 6.1898 - mae: 1.9295 - val_loss: 19.6642 - val_mae: 2.7853\n",
      "Epoch 58/100\n",
      "354/354 [==============================] - 1s 2ms/step - loss: 5.6106 - mae: 1.7932 - val_loss: 15.6287 - val_mae: 2.5943\n",
      "Epoch 59/100\n",
      "354/354 [==============================] - 1s 2ms/step - loss: 5.8483 - mae: 1.8241 - val_loss: 17.6508 - val_mae: 2.5817\n",
      "Epoch 60/100\n",
      "354/354 [==============================] - 1s 2ms/step - loss: 6.6467 - mae: 1.9887 - val_loss: 23.7290 - val_mae: 3.0324\n",
      "Epoch 61/100\n",
      "354/354 [==============================] - 1s 2ms/step - loss: 6.3050 - mae: 1.8922 - val_loss: 19.4563 - val_mae: 2.9568\n",
      "Epoch 62/100\n",
      "354/354 [==============================] - 1s 2ms/step - loss: 6.2854 - mae: 1.8814 - val_loss: 16.8725 - val_mae: 2.5775\n",
      "Epoch 63/100\n",
      "354/354 [==============================] - 1s 2ms/step - loss: 5.7082 - mae: 1.7875 - val_loss: 21.5638 - val_mae: 2.9037\n",
      "Epoch 64/100\n",
      "354/354 [==============================] - 1s 2ms/step - loss: 6.3695 - mae: 1.9106 - val_loss: 18.3490 - val_mae: 2.6832\n",
      "Epoch 65/100\n",
      "354/354 [==============================] - 1s 2ms/step - loss: 5.9202 - mae: 1.8327 - val_loss: 18.3775 - val_mae: 2.8094\n",
      "Epoch 66/100\n",
      "354/354 [==============================] - 1s 2ms/step - loss: 5.9125 - mae: 1.8248 - val_loss: 14.5972 - val_mae: 2.3862\n",
      "Epoch 67/100\n",
      "354/354 [==============================] - 1s 2ms/step - loss: 5.4997 - mae: 1.7256 - val_loss: 14.6068 - val_mae: 2.4548\n",
      "Epoch 68/100\n",
      "354/354 [==============================] - 1s 2ms/step - loss: 6.2975 - mae: 1.8546 - val_loss: 17.0807 - val_mae: 2.6476\n",
      "Epoch 69/100\n",
      "354/354 [==============================] - 1s 2ms/step - loss: 6.0004 - mae: 1.8711 - val_loss: 18.5443 - val_mae: 2.7842\n",
      "Epoch 70/100\n",
      "354/354 [==============================] - 1s 2ms/step - loss: 6.0154 - mae: 1.8606 - val_loss: 15.8859 - val_mae: 2.5174\n",
      "Epoch 71/100\n",
      "354/354 [==============================] - 1s 2ms/step - loss: 5.2257 - mae: 1.7311 - val_loss: 16.4238 - val_mae: 2.6665\n",
      "Epoch 72/100\n",
      "354/354 [==============================] - 1s 2ms/step - loss: 5.5252 - mae: 1.7637 - val_loss: 20.7849 - val_mae: 3.0230\n",
      "Epoch 73/100\n",
      "354/354 [==============================] - 1s 2ms/step - loss: 5.1106 - mae: 1.7350 - val_loss: 14.9523 - val_mae: 2.4321\n",
      "Epoch 74/100\n",
      "354/354 [==============================] - 1s 2ms/step - loss: 5.5366 - mae: 1.7467 - val_loss: 17.4101 - val_mae: 2.7186\n",
      "Epoch 75/100\n",
      "354/354 [==============================] - 1s 2ms/step - loss: 5.3489 - mae: 1.7563 - val_loss: 15.8173 - val_mae: 2.6049\n",
      "Epoch 76/100\n",
      "354/354 [==============================] - 1s 2ms/step - loss: 5.1989 - mae: 1.7153 - val_loss: 18.5145 - val_mae: 2.7388\n",
      "Epoch 77/100\n",
      "354/354 [==============================] - 1s 2ms/step - loss: 5.0654 - mae: 1.6882 - val_loss: 13.8959 - val_mae: 2.4096\n",
      "Epoch 78/100\n",
      "354/354 [==============================] - 1s 2ms/step - loss: 5.0649 - mae: 1.7322 - val_loss: 15.2982 - val_mae: 2.5391\n",
      "Epoch 79/100\n",
      "354/354 [==============================] - 1s 2ms/step - loss: 4.4860 - mae: 1.6270 - val_loss: 20.3317 - val_mae: 2.8905\n",
      "Epoch 80/100\n",
      "354/354 [==============================] - 1s 2ms/step - loss: 4.9833 - mae: 1.6665 - val_loss: 16.5347 - val_mae: 2.5326\n",
      "Epoch 81/100\n",
      "354/354 [==============================] - 1s 2ms/step - loss: 5.6450 - mae: 1.8442 - val_loss: 21.8953 - val_mae: 3.1964\n",
      "Epoch 82/100\n",
      "354/354 [==============================] - 1s 2ms/step - loss: 5.1789 - mae: 1.6773 - val_loss: 14.6139 - val_mae: 2.5439\n",
      "Epoch 83/100\n",
      "354/354 [==============================] - 1s 2ms/step - loss: 4.8632 - mae: 1.6772 - val_loss: 16.1925 - val_mae: 2.6816\n",
      "Epoch 84/100\n",
      "354/354 [==============================] - 1s 2ms/step - loss: 5.4375 - mae: 1.7635 - val_loss: 14.7589 - val_mae: 2.3015\n",
      "Epoch 85/100\n",
      "354/354 [==============================] - 1s 2ms/step - loss: 5.3296 - mae: 1.6353 - val_loss: 17.7697 - val_mae: 2.6507\n",
      "Epoch 86/100\n",
      "354/354 [==============================] - 1s 2ms/step - loss: 4.7770 - mae: 1.6723 - val_loss: 15.8478 - val_mae: 2.4879\n",
      "Epoch 87/100\n",
      "354/354 [==============================] - 1s 2ms/step - loss: 4.5025 - mae: 1.5910 - val_loss: 17.6513 - val_mae: 2.5330\n",
      "Epoch 88/100\n",
      "354/354 [==============================] - 1s 2ms/step - loss: 4.8247 - mae: 1.6627 - val_loss: 16.3096 - val_mae: 2.5238\n",
      "Epoch 89/100\n",
      "354/354 [==============================] - 1s 2ms/step - loss: 4.7348 - mae: 1.6760 - val_loss: 18.3250 - val_mae: 2.7526\n",
      "Epoch 90/100\n",
      "354/354 [==============================] - 1s 2ms/step - loss: 4.8743 - mae: 1.5943 - val_loss: 14.1985 - val_mae: 2.4606\n",
      "Epoch 91/100\n",
      "354/354 [==============================] - 1s 2ms/step - loss: 5.6858 - mae: 1.7021 - val_loss: 18.9548 - val_mae: 3.0884\n",
      "Epoch 92/100\n",
      "354/354 [==============================] - 1s 2ms/step - loss: 4.2018 - mae: 1.5457 - val_loss: 16.7702 - val_mae: 2.5430\n",
      "Epoch 93/100\n",
      "354/354 [==============================] - 1s 2ms/step - loss: 4.6563 - mae: 1.6735 - val_loss: 19.2970 - val_mae: 2.9568\n",
      "Epoch 94/100\n",
      "354/354 [==============================] - 1s 2ms/step - loss: 4.5112 - mae: 1.6004 - val_loss: 14.8304 - val_mae: 2.6754\n",
      "Epoch 95/100\n",
      "354/354 [==============================] - 1s 2ms/step - loss: 4.4585 - mae: 1.6220 - val_loss: 17.5160 - val_mae: 2.7536\n",
      "Epoch 96/100\n",
      "354/354 [==============================] - 1s 2ms/step - loss: 4.3571 - mae: 1.6041 - val_loss: 17.3072 - val_mae: 2.5116\n",
      "Epoch 97/100\n",
      "354/354 [==============================] - 1s 2ms/step - loss: 3.8179 - mae: 1.5072 - val_loss: 17.0588 - val_mae: 2.4818\n",
      "Epoch 98/100\n",
      "354/354 [==============================] - 1s 2ms/step - loss: 4.5359 - mae: 1.5811 - val_loss: 15.1011 - val_mae: 2.4644\n",
      "Epoch 99/100\n",
      "354/354 [==============================] - 1s 2ms/step - loss: 4.2604 - mae: 1.5593 - val_loss: 13.3291 - val_mae: 2.2836\n",
      "Epoch 100/100\n",
      "354/354 [==============================] - 1s 2ms/step - loss: 4.2576 - mae: 1.5775 - val_loss: 19.4575 - val_mae: 2.6481\n"
     ]
    }
   ],
   "source": [
    "model=house_price_prediction()\n",
    "history=model.fit(x=x_train_scaled, y=y_train, batch_size=1, verbose=1, epochs=100, validation_data=(x_test_scaled, y_test))"
   ]
  },
  {
   "cell_type": "code",
   "execution_count": 22,
   "id": "0c04eb6a",
   "metadata": {},
   "outputs": [
    {
     "name": "stdout",
     "output_type": "stream",
     "text": [
      "Actual output:  24.0\n",
      "1/1 [==============================] - 0s 108ms/step\n",
      "Pridected output:  [[10.2611885]]\n"
     ]
    }
   ],
   "source": [
    "test_input=[[0.00195926, 0.        , 1.        , 0.        , 0.46090535,\n",
    "       0.35504886, 0.98191489, 0.05690695, 0.13043478, 1.        ,\n",
    "       0.79787234, 0.86673559, 0.63092199]]\n",
    "print('Actual output: ',24.0)\n",
    "print('Pridected output: ',model.predict(test_input))"
   ]
  },
  {
   "cell_type": "code",
   "execution_count": 24,
   "id": "c403c0dd",
   "metadata": {},
   "outputs": [
    {
     "data": {
      "image/png": "[encoded data removed]",
      "text/plain": [
       "<Figure size 640x480 with 1 Axes>"
      ]
     },
     "metadata": {},
     "output_type": "display_data"
    }
   ],
   "source": [
    "import matplotlib.pyplot as plt\n",
    "\n",
    "plt.plot(history.history['loss'])\n",
    "plt.plot(history.history['val_loss'])\n",
    "plt.title('Loss')\n",
    "plt.xlabel('Epoch')\n",
    "plt.ylabel('Loss')\n",
    "plt.legend(['Train','validation'],loc='upper left')\n",
    "plt.show()"
   ]
  },
  {
   "cell_type": "code",
   "execution_count": null,
   "id": "64f9d98b",
   "metadata": {},
   "outputs": [],
   "source": []
  }
 ],
 "metadata": {
  "kernelspec": {
   "display_name": "Python 3 (ipykernel)",
   "language": "python",
   "name": "python3"
  },
  "language_info": {
   "codemirror_mode": {
    "name": "ipython",
    "version": 3
   },
   "file_extension": ".py",
   "mimetype": "text/x-python",
   "name": "python",
   "nbconvert_exporter": "python",
   "pygments_lexer": "ipython3",
   "version": "3.9.13"
  }
 },
 "nbformat": 4,
 "nbformat_minor": 5
}
