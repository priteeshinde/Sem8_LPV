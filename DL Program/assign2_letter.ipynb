{
 "cells": [
  {
   "cell_type": "code",
   "execution_count": 1,
   "metadata": {
    "id": "kK9Nv-71UFe1"
   },
   "outputs": [],
   "source": [
    "import pandas as pd\n",
    "import numpy as np\n",
    "from sklearn.preprocessing import LabelEncoder\n",
    "from sklearn.model_selection import train_test_split\n",
    "from sklearn.metrics import accuracy_score"
   ]
  },
  {
   "cell_type": "code",
   "execution_count": 2,
   "metadata": {
    "id": "Mn0HMSaRUY-7"
   },
   "outputs": [],
   "source": [
    "url = \"https://archive.ics.uci.edu/ml/machine-learning-databases/letter-recognition/letter-recognition.data\""
   ]
  },
  {
   "cell_type": "code",
   "execution_count": 3,
   "metadata": {
    "id": "bjO58dMgUg1W"
   },
   "outputs": [],
   "source": [
    "# Define column names based on dataset description\n",
    "names = ['letter', 'x-box', 'y-box', 'width', 'height', 'onpix', 'x-bar', 'y-bar', 'x2bar', 'y2bar', 'xybar', 'x2ybr', 'xy2br', 'x-ege', 'xegvy', 'y-ege', 'yegvx']\n"
   ]
  },
  {
   "cell_type": "code",
   "execution_count": 4,
   "metadata": {
    "id": "mKxAooXUUmH5"
   },
   "outputs": [],
   "source": [
    "data = pd.read_csv(url,names=names)"
   ]
  },
  {
   "cell_type": "code",
   "execution_count": 5,
   "metadata": {
    "id": "hnjAsmMDUqKk"
   },
   "outputs": [],
   "source": [
    "#seaparte features and target\n",
    "X = data.drop('letter',axis=1)\n",
    "y= data['letter']"
   ]
  },
  {
   "cell_type": "code",
   "execution_count": 6,
   "metadata": {
    "id": "V3w2BJyMUySz"
   },
   "outputs": [],
   "source": [
    "#Encode target labels\n",
    "label_encoder = LabelEncoder()\n",
    "y_encoded = label_encoder.fit_transform(y)"
   ]
  },
  {
   "cell_type": "code",
   "execution_count": 7,
   "metadata": {
    "id": "4rIss4W_U9Av"
   },
   "outputs": [],
   "source": [
    "X_train,X_test,y_train,y_test = train_test_split(X,y_encoded,test_size=0.2,random_state=42)"
   ]
  },
  {
   "cell_type": "code",
   "execution_count": 8,
   "metadata": {
    "id": "osOCxUg-VJMp"
   },
   "outputs": [
    {
     "name": "stdout",
     "output_type": "stream",
     "text": [
      "WARNING:tensorflow:From C:\\Users\\HP\\anaconda3\\lib\\site-packages\\keras\\src\\losses.py:2976: The name tf.losses.sparse_softmax_cross_entropy is deprecated. Please use tf.compat.v1.losses.sparse_softmax_cross_entropy instead.\n",
      "\n"
     ]
    }
   ],
   "source": [
    "from tensorflow.keras import Sequential\n",
    "from tensorflow.keras.layers import Dense"
   ]
  },
  {
   "cell_type": "code",
   "execution_count": 9,
   "metadata": {
    "id": "3iyxO-gaVQ8P"
   },
   "outputs": [
    {
     "name": "stdout",
     "output_type": "stream",
     "text": [
      "WARNING:tensorflow:From C:\\Users\\HP\\anaconda3\\lib\\site-packages\\keras\\src\\backend.py:873: The name tf.get_default_graph is deprecated. Please use tf.compat.v1.get_default_graph instead.\n",
      "\n"
     ]
    }
   ],
   "source": [
    "#DEfine model\n",
    "model = Sequential([\n",
    "    # First hidden layer with 64 neurons and ReLU activation function\n",
    "    Dense(64,activation='relu',input_shape=(X_train.shape[1],)),\n",
    "    # Second hidden layer with 64 neurons and ReLU activation function\n",
    "    Dense(64,activation='relu'),\n",
    "    # Output layer with neurons equal to the number of classes (26 for letters\n",
    "    # A-Z) and softmax activation function\n",
    "    Dense(len(label_encoder.classes_), activation='softmax')\n",
    "])"
   ]
  },
  {
   "cell_type": "code",
   "execution_count": 10,
   "metadata": {
    "id": "gqf0_DqfVnte"
   },
   "outputs": [
    {
     "name": "stdout",
     "output_type": "stream",
     "text": [
      "WARNING:tensorflow:From C:\\Users\\HP\\anaconda3\\lib\\site-packages\\keras\\src\\optimizers\\__init__.py:309: The name tf.train.Optimizer is deprecated. Please use tf.compat.v1.train.Optimizer instead.\n",
      "\n"
     ]
    }
   ],
   "source": [
    "#Compile the model\n",
    "model.compile(optimizer='adam',\n",
    "              loss='sparse_categorical_crossentropy',\n",
    "              metrics=['accuracy'])"
   ]
  },
  {
   "cell_type": "code",
   "execution_count": 11,
   "metadata": {
    "colab": {
     "base_uri": "https://localhost:8080/"
    },
    "id": "rcFUUOZ5VzJb",
    "outputId": "207c623e-d741-4a71-e98a-27670b25a82e"
   },
   "outputs": [
    {
     "name": "stdout",
     "output_type": "stream",
     "text": [
      "Epoch 1/20\n",
      "WARNING:tensorflow:From C:\\Users\\HP\\anaconda3\\lib\\site-packages\\keras\\src\\utils\\tf_utils.py:492: The name tf.ragged.RaggedTensorValue is deprecated. Please use tf.compat.v1.ragged.RaggedTensorValue instead.\n",
      "\n",
      "WARNING:tensorflow:From C:\\Users\\HP\\anaconda3\\lib\\site-packages\\keras\\src\\engine\\base_layer_utils.py:384: The name tf.executing_eagerly_outside_functions is deprecated. Please use tf.compat.v1.executing_eagerly_outside_functions instead.\n",
      "\n",
      "450/450 [==============================] - 3s 4ms/step - loss: 1.8931 - accuracy: 0.4802 - val_loss: 1.1489 - val_accuracy: 0.7056\n",
      "Epoch 2/20\n",
      "450/450 [==============================] - 1s 3ms/step - loss: 1.0283 - accuracy: 0.7171 - val_loss: 0.8901 - val_accuracy: 0.7506\n",
      "Epoch 3/20\n",
      "450/450 [==============================] - 2s 3ms/step - loss: 0.8409 - accuracy: 0.7645 - val_loss: 0.7771 - val_accuracy: 0.7769\n",
      "Epoch 4/20\n",
      "450/450 [==============================] - 1s 3ms/step - loss: 0.7317 - accuracy: 0.7905 - val_loss: 0.7016 - val_accuracy: 0.7994\n",
      "Epoch 5/20\n",
      "450/450 [==============================] - 2s 3ms/step - loss: 0.6477 - accuracy: 0.8113 - val_loss: 0.6092 - val_accuracy: 0.8250\n",
      "Epoch 6/20\n",
      "450/450 [==============================] - 1s 3ms/step - loss: 0.5730 - accuracy: 0.8313 - val_loss: 0.5734 - val_accuracy: 0.8294\n",
      "Epoch 7/20\n",
      "450/450 [==============================] - 1s 3ms/step - loss: 0.5192 - accuracy: 0.8442 - val_loss: 0.5055 - val_accuracy: 0.8500\n",
      "Epoch 8/20\n",
      "450/450 [==============================] - 1s 3ms/step - loss: 0.4780 - accuracy: 0.8556 - val_loss: 0.4609 - val_accuracy: 0.8544\n",
      "Epoch 9/20\n",
      "450/450 [==============================] - 1s 3ms/step - loss: 0.4436 - accuracy: 0.8656 - val_loss: 0.4333 - val_accuracy: 0.8694\n",
      "Epoch 10/20\n",
      "450/450 [==============================] - 1s 3ms/step - loss: 0.4180 - accuracy: 0.8697 - val_loss: 0.4217 - val_accuracy: 0.8650\n",
      "Epoch 11/20\n",
      "450/450 [==============================] - 1s 3ms/step - loss: 0.3993 - accuracy: 0.8763 - val_loss: 0.3958 - val_accuracy: 0.8788\n",
      "Epoch 12/20\n",
      "450/450 [==============================] - 1s 3ms/step - loss: 0.3716 - accuracy: 0.8842 - val_loss: 0.3677 - val_accuracy: 0.8881\n",
      "Epoch 13/20\n",
      "450/450 [==============================] - 1s 3ms/step - loss: 0.3548 - accuracy: 0.8896 - val_loss: 0.3437 - val_accuracy: 0.8906\n",
      "Epoch 14/20\n",
      "450/450 [==============================] - 1s 3ms/step - loss: 0.3354 - accuracy: 0.8951 - val_loss: 0.3334 - val_accuracy: 0.8944\n",
      "Epoch 15/20\n",
      "450/450 [==============================] - 2s 4ms/step - loss: 0.3181 - accuracy: 0.9003 - val_loss: 0.3213 - val_accuracy: 0.9100\n",
      "Epoch 16/20\n",
      "450/450 [==============================] - 2s 4ms/step - loss: 0.3091 - accuracy: 0.9044 - val_loss: 0.3134 - val_accuracy: 0.9081\n",
      "Epoch 17/20\n",
      "450/450 [==============================] - 2s 3ms/step - loss: 0.2895 - accuracy: 0.9097 - val_loss: 0.2971 - val_accuracy: 0.9069\n",
      "Epoch 18/20\n",
      "450/450 [==============================] - 1s 3ms/step - loss: 0.2838 - accuracy: 0.9099 - val_loss: 0.3198 - val_accuracy: 0.9019\n",
      "Epoch 19/20\n",
      "450/450 [==============================] - 1s 3ms/step - loss: 0.2630 - accuracy: 0.9162 - val_loss: 0.2819 - val_accuracy: 0.9131\n",
      "Epoch 20/20\n",
      "450/450 [==============================] - 1s 3ms/step - loss: 0.2589 - accuracy: 0.9183 - val_loss: 0.2847 - val_accuracy: 0.9050\n"
     ]
    },
    {
     "data": {
      "text/plain": [
       "<keras.src.callbacks.History at 0x1ecf0db0be0>"
      ]
     },
     "execution_count": 11,
     "metadata": {},
     "output_type": "execute_result"
    }
   ],
   "source": [
    "#Train the model\n",
    "model.fit(X_train,y_train, epochs=20, batch_size=32, validation_split=0.1)"
   ]
  },
  {
   "cell_type": "code",
   "execution_count": 12,
   "metadata": {
    "colab": {
     "base_uri": "https://localhost:8080/"
    },
    "id": "s61F5nh4cIcs",
    "outputId": "f65c6658-e58b-4464-f17f-434e478d9440"
   },
   "outputs": [
    {
     "name": "stderr",
     "output_type": "stream",
     "text": [
      "C:\\Users\\HP\\anaconda3\\lib\\site-packages\\keras\\src\\engine\\training.py:3103: UserWarning: You are saving your model as an HDF5 file via `model.save()`. This file format is considered legacy. We recommend using instead the native Keras format, e.g. `model.save('my_model.keras')`.\n",
      "  saving_api.save_model(\n"
     ]
    }
   ],
   "source": [
    "#save the trained model\n",
    "model.save(\"letter_recognition_model.h5\")"
   ]
  },
  {
   "cell_type": "code",
   "execution_count": 13,
   "metadata": {
    "colab": {
     "base_uri": "https://localhost:8080/"
    },
    "id": "deIM9hLfV66j",
    "outputId": "7086059c-fe76-4fae-ca84-a3b3c253edf8"
   },
   "outputs": [
    {
     "name": "stdout",
     "output_type": "stream",
     "text": [
      "125/125 [==============================] - 0s 3ms/step - loss: 0.2956 - accuracy: 0.9010\n",
      "Test Accuracy:  0.9010000228881836\n"
     ]
    }
   ],
   "source": [
    "#Evaluate the model\n",
    "test_loss, test_acc = model.evaluate(X_test, y_test)\n",
    "print('Test Accuracy: ',test_acc)"
   ]
  },
  {
   "cell_type": "code",
   "execution_count": 14,
   "metadata": {
    "id": "6-ETdeahcDnf"
   },
   "outputs": [],
   "source": [
    "#save the label encoder\n",
    "np.save(\"label_encoder_classes.npy\",label_encoder.classes_)"
   ]
  },
  {
   "cell_type": "code",
   "execution_count": 15,
   "metadata": {
    "id": "6rrN9VsuWpYG"
   },
   "outputs": [],
   "source": [
    "from tensorflow.keras.models import load_model"
   ]
  },
  {
   "cell_type": "code",
   "execution_count": 16,
   "metadata": {
    "id": "zslp-hMRaG4r"
   },
   "outputs": [],
   "source": [
    "# Function to preprocess input dimensions\n",
    "def preprocess_input(dimensions):\n",
    "  # Convert dimensions to a numpy array and reshape it to match the input shape\n",
    "  # of the model\n",
    "  input_data=np.array(dimensions).reshape(1,-1)\n",
    "  return input_data"
   ]
  },
  {
   "cell_type": "code",
   "execution_count": 17,
   "metadata": {
    "id": "xTVDjqOoaWPQ"
   },
   "outputs": [],
   "source": [
    "# Function to predict the output using the trained model\n",
    "def predict_output(model,input_data,label_encoder):\n",
    "   # Use the model to predict the output\n",
    "  predicted_class=np.argmax(model.predict(input_data),axis=-1)\n",
    "  # Convert the predicted class index back to the original letter\n",
    "  predicted_letter = label_encoder.inverse_transform(predicted_class)\n",
    "  return predicted_letter[0]"
   ]
  },
  {
   "cell_type": "code",
   "execution_count": 18,
   "metadata": {
    "id": "9hK3TaRXatow"
   },
   "outputs": [],
   "source": [
    "# Load the trained model and label encoder\n",
    "model=load_model(\"letter_recognition_model.h5\")\n",
    "label_encoder = LabelEncoder()\n",
    "label_encoder.classes_ = np.load(\"label_encoder_classes.npy\",allow_pickle=True)"
   ]
  },
  {
   "cell_type": "code",
   "execution_count": 19,
   "metadata": {
    "colab": {
     "base_uri": "https://localhost:8080/"
    },
    "id": "v3D2_X26bI0s",
    "outputId": "29f5c6df-d494-4b25-dbd9-06f5955e29f5"
   },
   "outputs": [
    {
     "name": "stdout",
     "output_type": "stream",
     "text": [
      "Enter the dimensions separated by commas: 8,14,8,8,5,8,5,2,9,12,6,9,3,7,6,7\n"
     ]
    }
   ],
   "source": [
    "# Input dimensions dynamically from the user\n",
    "dimension_str = input(\"Enter the dimensions separated by commas: \")\n",
    "# Convert the input string to a list of integers\n",
    "dimensions = list(map(int, dimension_str.split(',')))"
   ]
  },
  {
   "cell_type": "code",
   "execution_count": 20,
   "metadata": {
    "id": "0nfBCuB2dd7j"
   },
   "outputs": [],
   "source": [
    "# Preprocess the input dimensions\n",
    "input_data = preprocess_input(dimensions)"
   ]
  },
  {
   "cell_type": "code",
   "execution_count": 21,
   "metadata": {
    "colab": {
     "base_uri": "https://localhost:8080/"
    },
    "id": "0eG1PWFvdynt",
    "outputId": "8234751a-fa04-46ff-b43f-66b820ade0aa"
   },
   "outputs": [
    {
     "name": "stdout",
     "output_type": "stream",
     "text": [
      "1/1 [==============================] - 0s 273ms/step\n",
      "Predicted Letter:  Z\n"
     ]
    }
   ],
   "source": [
    "# Predict the output\n",
    "predicted_letter = predict_output(model, input_data,label_encoder)\n",
    "print(\"Predicted Letter: \",predicted_letter)"
   ]
  },
  {
   "cell_type": "code",
   "execution_count": null,
   "metadata": {
    "id": "2chBPI3heAkv"
   },
   "outputs": [],
   "source": []
  }
 ],
 "metadata": {
  "colab": {
   "authorship_tag": "ABX9TyOjBzo/rXFmIoX8G7DozRGY",
   "provenance": []
  },
  "kernelspec": {
   "display_name": "Python 3 (ipykernel)",
   "language": "python",
   "name": "python3"
  },
  "language_info": {
   "codemirror_mode": {
    "name": "ipython",
    "version": 3
   },
   "file_extension": ".py",
   "mimetype": "text/x-python",
   "name": "python",
   "nbconvert_exporter": "python",
   "pygments_lexer": "ipython3",
   "version": "3.9.13"
  }
 },
 "nbformat": 4,
 "nbformat_minor": 1
}
