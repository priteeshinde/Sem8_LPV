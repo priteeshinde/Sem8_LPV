{
 "cells": [
  {
   "cell_type": "markdown",
   "id": "ca9e9c82",
   "metadata": {},
   "source": [
    "dataset-https://www.kaggle.com/datasets/altavish/boston-housing-dataset"
   ]
  },
  {
   "cell_type": "code",
   "execution_count": 1,
   "id": "178b511f",
   "metadata": {},
   "outputs": [
    {
     "name": "stdout",
     "output_type": "stream",
     "text": [
      "WARNING:tensorflow:From C:\\Users\\HP\\anaconda3\\lib\\site-packages\\keras\\src\\losses.py:2976: The name tf.losses.sparse_softmax_cross_entropy is deprecated. Please use tf.compat.v1.losses.sparse_softmax_cross_entropy instead.\n",
      "\n"
     ]
    }
   ],
   "source": [
    "import pandas as pd\n",
    "import numpy as np\n",
    "import tensorflow as tf"
   ]
  },
  {
   "cell_type": "code",
   "execution_count": 2,
   "id": "62f14b09",
   "metadata": {},
   "outputs": [
    {
     "data": {
      "text/html": [
       "<div>\n",
       "<style scoped>\n",
       "    .dataframe tbody tr th:only-of-type {\n",
       "        vertical-align: middle;\n",
       "    }\n",
       "\n",
       "    .dataframe tbody tr th {\n",
       "        vertical-align: top;\n",
       "    }\n",
       "\n",
       "    .dataframe thead th {\n",
       "        text-align: right;\n",
       "    }\n",
       "</style>\n",
       "<table border=\"1\" class=\"dataframe\">\n",
       "  <thead>\n",
       "    <tr style=\"text-align: right;\">\n",
       "      <th></th>\n",
       "      <th>crim</th>\n",
       "      <th>zn</th>\n",
       "      <th>indus</th>\n",
       "      <th>chas</th>\n",
       "      <th>nox</th>\n",
       "      <th>rm</th>\n",
       "      <th>age</th>\n",
       "      <th>dis</th>\n",
       "      <th>rad</th>\n",
       "      <th>tax</th>\n",
       "      <th>ptratio</th>\n",
       "      <th>b</th>\n",
       "      <th>lstat</th>\n",
       "      <th>MEDV</th>\n",
       "    </tr>\n",
       "  </thead>\n",
       "  <tbody>\n",
       "    <tr>\n",
       "      <th>0</th>\n",
       "      <td>0.00632</td>\n",
       "      <td>18.0</td>\n",
       "      <td>2.31</td>\n",
       "      <td>0</td>\n",
       "      <td>0.538</td>\n",
       "      <td>6.575</td>\n",
       "      <td>65.2</td>\n",
       "      <td>4.0900</td>\n",
       "      <td>1</td>\n",
       "      <td>296</td>\n",
       "      <td>15.3</td>\n",
       "      <td>396.90</td>\n",
       "      <td>4.98</td>\n",
       "      <td>24.0</td>\n",
       "    </tr>\n",
       "    <tr>\n",
       "      <th>1</th>\n",
       "      <td>0.02731</td>\n",
       "      <td>0.0</td>\n",
       "      <td>7.07</td>\n",
       "      <td>0</td>\n",
       "      <td>0.469</td>\n",
       "      <td>6.421</td>\n",
       "      <td>78.9</td>\n",
       "      <td>4.9671</td>\n",
       "      <td>2</td>\n",
       "      <td>242</td>\n",
       "      <td>17.8</td>\n",
       "      <td>396.90</td>\n",
       "      <td>9.14</td>\n",
       "      <td>21.6</td>\n",
       "    </tr>\n",
       "    <tr>\n",
       "      <th>2</th>\n",
       "      <td>0.02729</td>\n",
       "      <td>0.0</td>\n",
       "      <td>7.07</td>\n",
       "      <td>0</td>\n",
       "      <td>0.469</td>\n",
       "      <td>7.185</td>\n",
       "      <td>61.1</td>\n",
       "      <td>4.9671</td>\n",
       "      <td>2</td>\n",
       "      <td>242</td>\n",
       "      <td>17.8</td>\n",
       "      <td>392.83</td>\n",
       "      <td>4.03</td>\n",
       "      <td>34.7</td>\n",
       "    </tr>\n",
       "    <tr>\n",
       "      <th>3</th>\n",
       "      <td>0.03237</td>\n",
       "      <td>0.0</td>\n",
       "      <td>2.18</td>\n",
       "      <td>0</td>\n",
       "      <td>0.458</td>\n",
       "      <td>6.998</td>\n",
       "      <td>45.8</td>\n",
       "      <td>6.0622</td>\n",
       "      <td>3</td>\n",
       "      <td>222</td>\n",
       "      <td>18.7</td>\n",
       "      <td>394.63</td>\n",
       "      <td>2.94</td>\n",
       "      <td>33.4</td>\n",
       "    </tr>\n",
       "    <tr>\n",
       "      <th>4</th>\n",
       "      <td>0.06905</td>\n",
       "      <td>0.0</td>\n",
       "      <td>2.18</td>\n",
       "      <td>0</td>\n",
       "      <td>0.458</td>\n",
       "      <td>7.147</td>\n",
       "      <td>54.2</td>\n",
       "      <td>6.0622</td>\n",
       "      <td>3</td>\n",
       "      <td>222</td>\n",
       "      <td>18.7</td>\n",
       "      <td>396.90</td>\n",
       "      <td>5.33</td>\n",
       "      <td>36.2</td>\n",
       "    </tr>\n",
       "  </tbody>\n",
       "</table>\n",
       "</div>"
      ],
      "text/plain": [
       "      crim    zn  indus  chas    nox     rm   age     dis  rad  tax  ptratio  \\\n",
       "0  0.00632  18.0   2.31     0  0.538  6.575  65.2  4.0900    1  296     15.3   \n",
       "1  0.02731   0.0   7.07     0  0.469  6.421  78.9  4.9671    2  242     17.8   \n",
       "2  0.02729   0.0   7.07     0  0.469  7.185  61.1  4.9671    2  242     17.8   \n",
       "3  0.03237   0.0   2.18     0  0.458  6.998  45.8  6.0622    3  222     18.7   \n",
       "4  0.06905   0.0   2.18     0  0.458  7.147  54.2  6.0622    3  222     18.7   \n",
       "\n",
       "        b  lstat  MEDV  \n",
       "0  396.90   4.98  24.0  \n",
       "1  396.90   9.14  21.6  \n",
       "2  392.83   4.03  34.7  \n",
       "3  394.63   2.94  33.4  \n",
       "4  396.90   5.33  36.2  "
      ]
     },
     "execution_count": 2,
     "metadata": {},
     "output_type": "execute_result"
    }
   ],
   "source": [
    "df=pd.read_csv(\"1_boston_housing.csv\")\n",
    "df.head()"
   ]
  },
  {
   "cell_type": "code",
   "execution_count": 3,
   "id": "a29337a2",
   "metadata": {},
   "outputs": [
    {
     "data": {
      "text/plain": [
       "crim       0\n",
       "zn         0\n",
       "indus      0\n",
       "chas       0\n",
       "nox        0\n",
       "rm         0\n",
       "age        0\n",
       "dis        0\n",
       "rad        0\n",
       "tax        0\n",
       "ptratio    0\n",
       "b          0\n",
       "lstat      0\n",
       "MEDV       0\n",
       "dtype: int64"
      ]
     },
     "execution_count": 3,
     "metadata": {},
     "output_type": "execute_result"
    }
   ],
   "source": [
    "df.isnull().sum()"
   ]
  },
  {
   "cell_type": "code",
   "execution_count": 4,
   "id": "c6bd7ad3",
   "metadata": {},
   "outputs": [
    {
     "data": {
      "text/plain": [
       "crim         3.613524\n",
       "zn          11.363636\n",
       "indus       11.136779\n",
       "chas         0.069170\n",
       "nox          0.554695\n",
       "rm           6.284634\n",
       "age         68.574901\n",
       "dis          3.795043\n",
       "rad          9.549407\n",
       "tax        408.237154\n",
       "ptratio     18.455534\n",
       "b          356.674032\n",
       "lstat       12.653063\n",
       "MEDV        22.532806\n",
       "dtype: float64"
      ]
     },
     "execution_count": 4,
     "metadata": {},
     "output_type": "execute_result"
    }
   ],
   "source": [
    "df.mean()"
   ]
  },
  {
   "cell_type": "code",
   "execution_count": 5,
   "id": "c9ed5174",
   "metadata": {},
   "outputs": [],
   "source": [
    "df.fillna(df.mean(),inplace=True)"
   ]
  },
  {
   "cell_type": "code",
   "execution_count": 6,
   "id": "5a1f4338",
   "metadata": {},
   "outputs": [],
   "source": [
    "x = df.drop('MEDV',axis=1)\n",
    "y=df['MEDV']"
   ]
  },
  {
   "cell_type": "code",
   "execution_count": 7,
   "id": "2853abe2",
   "metadata": {},
   "outputs": [
    {
     "name": "stdout",
     "output_type": "stream",
     "text": [
      "shape of scaled x train: (354, 13)\n",
      "shape of scaled x test: (152, 13)\n"
     ]
    }
   ],
   "source": [
    "from sklearn.model_selection import train_test_split\n",
    "from sklearn.preprocessing import MinMaxScaler\n",
    "x_train,x_test,y_train,y_test = train_test_split(x,y,test_size=0.3)\n",
    "scale = MinMaxScaler()\n",
    "x_train_scaled = scale.fit_transform(x_train)\n",
    "x_test_scaled = scale.fit_transform(x_test)\n",
    "print(\"shape of scaled x train:\",x_train_scaled.shape)\n",
    "print(\"shape of scaled x test:\",x_test_scaled.shape)"
   ]
  },
  {
   "cell_type": "code",
   "execution_count": 8,
   "id": "5b924252",
   "metadata": {
    "scrolled": true
   },
   "outputs": [
    {
     "data": {
      "text/plain": [
       "array([0.02513255, 0.        , 0.70087977, 0.        , 0.4526749 ,\n",
       "       0.4393562 , 0.91555098, 0.13422749, 0.17391304, 0.41108987,\n",
       "       0.22340426, 0.99548641, 0.26962552])"
      ]
     },
     "execution_count": 8,
     "metadata": {},
     "output_type": "execute_result"
    }
   ],
   "source": [
    "x_train_scaled[0]"
   ]
  },
  {
   "cell_type": "code",
   "execution_count": 9,
   "id": "a8433ce0",
   "metadata": {},
   "outputs": [
    {
     "data": {
      "text/plain": [
       "(13,)"
      ]
     },
     "execution_count": 9,
     "metadata": {},
     "output_type": "execute_result"
    }
   ],
   "source": [
    "x_train_scaled[0].shape"
   ]
  },
  {
   "cell_type": "code",
   "execution_count": 10,
   "id": "23a24cb8",
   "metadata": {},
   "outputs": [
    {
     "name": "stdout",
     "output_type": "stream",
     "text": [
      "WARNING:tensorflow:From C:\\Users\\HP\\anaconda3\\lib\\site-packages\\keras\\src\\backend.py:873: The name tf.get_default_graph is deprecated. Please use tf.compat.v1.get_default_graph instead.\n",
      "\n",
      "WARNING:tensorflow:From C:\\Users\\HP\\anaconda3\\lib\\site-packages\\keras\\src\\optimizers\\__init__.py:309: The name tf.train.Optimizer is deprecated. Please use tf.compat.v1.train.Optimizer instead.\n",
      "\n"
     ]
    }
   ],
   "source": [
    "from tensorflow.keras.models import Sequential\n",
    "from tensorflow.keras.layers import *\n",
    "\n",
    "\n",
    "model=Sequential()\n",
    "model.add(Dense(128,activation='relu',input_shape=(x_train_scaled[0].shape)))\n",
    "model.add(Dense(64,activation='relu'))\n",
    "model.add(Dense(32,activation='relu'))\n",
    "model.add(Dense(16,activation='relu'))\n",
    "model.add(Dense(1))\n",
    "model.compile(optimizer='adam',loss='mse',metrics=['mae'])\n"
   ]
  },
  {
   "cell_type": "code",
   "execution_count": 11,
   "id": "b797f658",
   "metadata": {
    "scrolled": true
   },
   "outputs": [
    {
     "name": "stdout",
     "output_type": "stream",
     "text": [
      "Epoch 1/100\n",
      "WARNING:tensorflow:From C:\\Users\\HP\\anaconda3\\lib\\site-packages\\keras\\src\\utils\\tf_utils.py:492: The name tf.ragged.RaggedTensorValue is deprecated. Please use tf.compat.v1.ragged.RaggedTensorValue instead.\n",
      "\n",
      "WARNING:tensorflow:From C:\\Users\\HP\\anaconda3\\lib\\site-packages\\keras\\src\\engine\\base_layer_utils.py:384: The name tf.executing_eagerly_outside_functions is deprecated. Please use tf.compat.v1.executing_eagerly_outside_functions instead.\n",
      "\n",
      "354/354 [==============================] - 4s 5ms/step - loss: 138.4858 - mae: 8.6079 - val_loss: 64.0975 - val_mae: 5.1325\n",
      "Epoch 2/100\n",
      "354/354 [==============================] - 1s 4ms/step - loss: 38.1663 - mae: 4.4100 - val_loss: 36.0454 - val_mae: 3.9600\n",
      "Epoch 3/100\n",
      "354/354 [==============================] - 1s 4ms/step - loss: 26.4975 - mae: 3.5999 - val_loss: 32.6505 - val_mae: 3.5011\n",
      "Epoch 4/100\n",
      "354/354 [==============================] - 1s 4ms/step - loss: 23.7828 - mae: 3.4176 - val_loss: 24.2625 - val_mae: 3.0051\n",
      "Epoch 5/100\n",
      "354/354 [==============================] - 1s 4ms/step - loss: 21.5134 - mae: 3.2276 - val_loss: 24.5804 - val_mae: 3.6927\n",
      "Epoch 6/100\n",
      "354/354 [==============================] - 1s 4ms/step - loss: 20.1502 - mae: 3.1029 - val_loss: 27.6159 - val_mae: 4.1042\n",
      "Epoch 7/100\n",
      "354/354 [==============================] - 1s 4ms/step - loss: 18.7193 - mae: 3.0541 - val_loss: 21.7001 - val_mae: 3.1250\n",
      "Epoch 8/100\n",
      "354/354 [==============================] - 2s 5ms/step - loss: 18.3352 - mae: 3.0159 - val_loss: 20.8672 - val_mae: 2.6746\n",
      "Epoch 9/100\n",
      "354/354 [==============================] - 2s 5ms/step - loss: 16.9040 - mae: 2.8903 - val_loss: 23.5064 - val_mae: 3.2576\n",
      "Epoch 10/100\n",
      "354/354 [==============================] - 1s 4ms/step - loss: 16.0047 - mae: 2.8299 - val_loss: 17.2457 - val_mae: 2.7072\n",
      "Epoch 11/100\n",
      "354/354 [==============================] - 1s 4ms/step - loss: 15.8349 - mae: 2.8155 - val_loss: 23.1977 - val_mae: 2.7041\n",
      "Epoch 12/100\n",
      "354/354 [==============================] - 1s 4ms/step - loss: 16.9128 - mae: 2.8658 - val_loss: 19.0987 - val_mae: 2.7838\n",
      "Epoch 13/100\n",
      "354/354 [==============================] - 1s 3ms/step - loss: 13.8942 - mae: 2.6405 - val_loss: 16.3957 - val_mae: 2.5620\n",
      "Epoch 14/100\n",
      "354/354 [==============================] - 2s 5ms/step - loss: 14.6374 - mae: 2.7147 - val_loss: 29.0823 - val_mae: 4.1325\n",
      "Epoch 15/100\n",
      "354/354 [==============================] - 1s 4ms/step - loss: 14.1679 - mae: 2.6280 - val_loss: 24.3170 - val_mae: 2.9338\n",
      "Epoch 16/100\n",
      "354/354 [==============================] - 2s 5ms/step - loss: 14.5074 - mae: 2.6986 - val_loss: 17.6419 - val_mae: 2.7980\n",
      "Epoch 17/100\n",
      "354/354 [==============================] - 2s 5ms/step - loss: 12.3920 - mae: 2.4795 - val_loss: 16.5991 - val_mae: 2.4935\n",
      "Epoch 18/100\n",
      "354/354 [==============================] - 1s 4ms/step - loss: 11.7710 - mae: 2.3906 - val_loss: 24.8201 - val_mae: 2.9773\n",
      "Epoch 19/100\n",
      "354/354 [==============================] - 1s 4ms/step - loss: 12.7480 - mae: 2.5513 - val_loss: 15.5628 - val_mae: 2.3173\n",
      "Epoch 20/100\n",
      "354/354 [==============================] - 1s 4ms/step - loss: 11.4959 - mae: 2.4470 - val_loss: 16.9977 - val_mae: 2.7238\n",
      "Epoch 21/100\n",
      "354/354 [==============================] - 1s 4ms/step - loss: 11.5321 - mae: 2.3694 - val_loss: 18.0815 - val_mae: 2.5736\n",
      "Epoch 22/100\n",
      "354/354 [==============================] - 2s 5ms/step - loss: 11.8209 - mae: 2.4399 - val_loss: 14.8608 - val_mae: 2.3941\n",
      "Epoch 23/100\n",
      "354/354 [==============================] - 2s 5ms/step - loss: 10.4837 - mae: 2.2921 - val_loss: 13.6729 - val_mae: 2.5303\n",
      "Epoch 24/100\n",
      "354/354 [==============================] - 2s 4ms/step - loss: 10.8237 - mae: 2.3666 - val_loss: 13.7387 - val_mae: 2.4906\n",
      "Epoch 25/100\n",
      "354/354 [==============================] - 2s 5ms/step - loss: 10.2856 - mae: 2.2703 - val_loss: 24.4961 - val_mae: 3.6884\n",
      "Epoch 26/100\n",
      "354/354 [==============================] - 1s 4ms/step - loss: 11.7625 - mae: 2.5195 - val_loss: 15.1786 - val_mae: 2.6452\n",
      "Epoch 27/100\n",
      "354/354 [==============================] - 1s 4ms/step - loss: 9.9970 - mae: 2.3429 - val_loss: 14.9037 - val_mae: 2.6665\n",
      "Epoch 28/100\n",
      "354/354 [==============================] - 1s 4ms/step - loss: 10.2133 - mae: 2.3321 - val_loss: 15.0816 - val_mae: 2.3455\n",
      "Epoch 29/100\n",
      "354/354 [==============================] - 1s 4ms/step - loss: 10.6601 - mae: 2.3782 - val_loss: 13.1739 - val_mae: 2.5006\n",
      "Epoch 30/100\n",
      "354/354 [==============================] - 1s 4ms/step - loss: 8.7403 - mae: 2.1837 - val_loss: 19.7431 - val_mae: 2.6365\n",
      "Epoch 31/100\n",
      "354/354 [==============================] - 1s 4ms/step - loss: 9.2719 - mae: 2.2190 - val_loss: 15.7423 - val_mae: 2.6249\n",
      "Epoch 32/100\n",
      "354/354 [==============================] - 1s 4ms/step - loss: 8.6803 - mae: 2.1790 - val_loss: 17.0426 - val_mae: 2.9922\n",
      "Epoch 33/100\n",
      "354/354 [==============================] - 1s 4ms/step - loss: 10.6769 - mae: 2.4463 - val_loss: 26.0147 - val_mae: 3.2683\n",
      "Epoch 34/100\n",
      "354/354 [==============================] - 1s 4ms/step - loss: 9.4420 - mae: 2.2750 - val_loss: 13.1643 - val_mae: 2.3132\n",
      "Epoch 35/100\n",
      "354/354 [==============================] - 1s 4ms/step - loss: 9.1353 - mae: 2.1989 - val_loss: 18.6678 - val_mae: 3.3623\n",
      "Epoch 36/100\n",
      "354/354 [==============================] - 1s 4ms/step - loss: 8.3817 - mae: 2.1799 - val_loss: 17.9384 - val_mae: 2.8307\n",
      "Epoch 37/100\n",
      "354/354 [==============================] - 2s 5ms/step - loss: 8.2563 - mae: 2.1177 - val_loss: 16.8007 - val_mae: 2.4569\n",
      "Epoch 38/100\n",
      "354/354 [==============================] - 1s 4ms/step - loss: 8.7068 - mae: 2.1473 - val_loss: 15.7017 - val_mae: 2.4040\n",
      "Epoch 39/100\n",
      "354/354 [==============================] - 1s 4ms/step - loss: 7.6738 - mae: 2.0444 - val_loss: 12.9755 - val_mae: 2.4353\n",
      "Epoch 40/100\n",
      "354/354 [==============================] - 1s 4ms/step - loss: 7.7877 - mae: 2.1099 - val_loss: 16.9737 - val_mae: 3.1078\n",
      "Epoch 41/100\n",
      "354/354 [==============================] - 1s 4ms/step - loss: 8.7587 - mae: 2.1401 - val_loss: 17.2482 - val_mae: 2.8288\n",
      "Epoch 42/100\n",
      "354/354 [==============================] - 1s 4ms/step - loss: 8.5786 - mae: 2.1875 - val_loss: 18.0883 - val_mae: 2.7727\n",
      "Epoch 43/100\n",
      "354/354 [==============================] - 1s 4ms/step - loss: 6.9072 - mae: 1.9568 - val_loss: 13.2378 - val_mae: 2.2589\n",
      "Epoch 44/100\n",
      "354/354 [==============================] - 2s 4ms/step - loss: 7.5742 - mae: 2.0643 - val_loss: 12.5124 - val_mae: 2.3015\n",
      "Epoch 45/100\n",
      "354/354 [==============================] - 2s 5ms/step - loss: 7.3700 - mae: 1.9915 - val_loss: 14.1625 - val_mae: 2.2954\n",
      "Epoch 46/100\n",
      "354/354 [==============================] - 2s 4ms/step - loss: 7.1399 - mae: 2.0234 - val_loss: 13.0068 - val_mae: 2.3141\n",
      "Epoch 47/100\n",
      "354/354 [==============================] - 1s 4ms/step - loss: 6.9988 - mae: 1.9875 - val_loss: 18.0441 - val_mae: 2.9527\n",
      "Epoch 48/100\n",
      "354/354 [==============================] - 1s 4ms/step - loss: 7.0612 - mae: 2.0011 - val_loss: 14.9417 - val_mae: 2.7559\n",
      "Epoch 49/100\n",
      "354/354 [==============================] - 1s 4ms/step - loss: 6.4712 - mae: 1.9282 - val_loss: 18.5698 - val_mae: 3.0390\n",
      "Epoch 50/100\n",
      "354/354 [==============================] - 1s 4ms/step - loss: 7.2958 - mae: 2.0572 - val_loss: 18.4352 - val_mae: 2.8791\n",
      "Epoch 51/100\n",
      "354/354 [==============================] - 1s 4ms/step - loss: 6.8800 - mae: 1.9506 - val_loss: 13.7549 - val_mae: 2.5179\n",
      "Epoch 52/100\n",
      "354/354 [==============================] - 1s 4ms/step - loss: 6.3515 - mae: 1.9102 - val_loss: 16.1716 - val_mae: 2.5098\n",
      "Epoch 53/100\n",
      "354/354 [==============================] - 1s 4ms/step - loss: 6.2990 - mae: 1.9363 - val_loss: 16.3477 - val_mae: 2.6124\n",
      "Epoch 54/100\n",
      "354/354 [==============================] - 2s 4ms/step - loss: 6.2140 - mae: 1.8695 - val_loss: 15.5812 - val_mae: 2.3535\n",
      "Epoch 55/100\n",
      "354/354 [==============================] - 2s 4ms/step - loss: 6.5782 - mae: 1.9509 - val_loss: 17.0079 - val_mae: 2.6690\n",
      "Epoch 56/100\n",
      "354/354 [==============================] - 1s 4ms/step - loss: 6.8376 - mae: 1.9126 - val_loss: 16.7277 - val_mae: 2.4922\n",
      "Epoch 57/100\n",
      "354/354 [==============================] - 1s 4ms/step - loss: 6.4752 - mae: 1.9537 - val_loss: 13.9154 - val_mae: 2.3112\n",
      "Epoch 58/100\n"
     ]
    },
    {
     "name": "stdout",
     "output_type": "stream",
     "text": [
      "354/354 [==============================] - 1s 4ms/step - loss: 6.5360 - mae: 1.8839 - val_loss: 16.1880 - val_mae: 2.5975\n",
      "Epoch 59/100\n",
      "354/354 [==============================] - 1s 4ms/step - loss: 7.1304 - mae: 2.0016 - val_loss: 17.9870 - val_mae: 2.4902\n",
      "Epoch 60/100\n",
      "354/354 [==============================] - 1s 4ms/step - loss: 6.6304 - mae: 1.8672 - val_loss: 17.1236 - val_mae: 2.9346\n",
      "Epoch 61/100\n",
      "354/354 [==============================] - 1s 4ms/step - loss: 6.3771 - mae: 1.8795 - val_loss: 19.9529 - val_mae: 3.1751\n",
      "Epoch 62/100\n",
      "354/354 [==============================] - 2s 4ms/step - loss: 5.9727 - mae: 1.8083 - val_loss: 14.5142 - val_mae: 2.3608\n",
      "Epoch 63/100\n",
      "354/354 [==============================] - 1s 4ms/step - loss: 6.1116 - mae: 1.8329 - val_loss: 15.3164 - val_mae: 2.5039\n",
      "Epoch 64/100\n",
      "354/354 [==============================] - 1s 4ms/step - loss: 5.9778 - mae: 1.8283 - val_loss: 17.8570 - val_mae: 2.8274\n",
      "Epoch 65/100\n",
      "354/354 [==============================] - 2s 4ms/step - loss: 5.4396 - mae: 1.7516 - val_loss: 12.7090 - val_mae: 2.3402\n",
      "Epoch 66/100\n",
      "354/354 [==============================] - 2s 4ms/step - loss: 6.7175 - mae: 1.9026 - val_loss: 14.8417 - val_mae: 2.3554\n",
      "Epoch 67/100\n",
      "354/354 [==============================] - 2s 4ms/step - loss: 5.9316 - mae: 1.8036 - val_loss: 16.1701 - val_mae: 2.4125\n",
      "Epoch 68/100\n",
      "354/354 [==============================] - 1s 4ms/step - loss: 5.9639 - mae: 1.8570 - val_loss: 15.9886 - val_mae: 2.3169\n",
      "Epoch 69/100\n",
      "354/354 [==============================] - 1s 4ms/step - loss: 5.4889 - mae: 1.7615 - val_loss: 15.8905 - val_mae: 2.3705\n",
      "Epoch 70/100\n",
      "354/354 [==============================] - 1s 4ms/step - loss: 5.9742 - mae: 1.8522 - val_loss: 16.3842 - val_mae: 2.4623\n",
      "Epoch 71/100\n",
      "354/354 [==============================] - 1s 4ms/step - loss: 5.5761 - mae: 1.7434 - val_loss: 14.0096 - val_mae: 2.3783\n",
      "Epoch 72/100\n",
      "354/354 [==============================] - 1s 4ms/step - loss: 5.6143 - mae: 1.7888 - val_loss: 17.2067 - val_mae: 2.6895\n",
      "Epoch 73/100\n",
      "354/354 [==============================] - 1s 4ms/step - loss: 5.2640 - mae: 1.6939 - val_loss: 15.9678 - val_mae: 2.4958\n",
      "Epoch 74/100\n",
      "354/354 [==============================] - 1s 4ms/step - loss: 5.9144 - mae: 1.8120 - val_loss: 19.8909 - val_mae: 2.8555\n",
      "Epoch 75/100\n",
      "354/354 [==============================] - 1s 4ms/step - loss: 6.4903 - mae: 1.9215 - val_loss: 11.6904 - val_mae: 2.1811\n",
      "Epoch 76/100\n",
      "354/354 [==============================] - 2s 5ms/step - loss: 5.5922 - mae: 1.7684 - val_loss: 16.8612 - val_mae: 2.5045\n",
      "Epoch 77/100\n",
      "354/354 [==============================] - 2s 4ms/step - loss: 5.5093 - mae: 1.8230 - val_loss: 15.4186 - val_mae: 2.3252\n",
      "Epoch 78/100\n",
      "354/354 [==============================] - 1s 4ms/step - loss: 5.2568 - mae: 1.7218 - val_loss: 18.4298 - val_mae: 2.5515\n",
      "Epoch 79/100\n",
      "354/354 [==============================] - 2s 4ms/step - loss: 5.3416 - mae: 1.7050 - val_loss: 15.2746 - val_mae: 2.3015\n",
      "Epoch 80/100\n",
      "354/354 [==============================] - 1s 4ms/step - loss: 5.7193 - mae: 1.7946 - val_loss: 14.3447 - val_mae: 2.3007\n",
      "Epoch 81/100\n",
      "354/354 [==============================] - 2s 4ms/step - loss: 5.5875 - mae: 1.7695 - val_loss: 14.2914 - val_mae: 2.4408\n",
      "Epoch 82/100\n",
      "354/354 [==============================] - 2s 4ms/step - loss: 5.0386 - mae: 1.6753 - val_loss: 17.3666 - val_mae: 2.7968\n",
      "Epoch 83/100\n",
      "354/354 [==============================] - 1s 4ms/step - loss: 5.1114 - mae: 1.6665 - val_loss: 11.7935 - val_mae: 2.2765\n",
      "Epoch 84/100\n",
      "354/354 [==============================] - 1s 4ms/step - loss: 5.5577 - mae: 1.7624 - val_loss: 17.0837 - val_mae: 2.7143\n",
      "Epoch 85/100\n",
      "354/354 [==============================] - 1s 4ms/step - loss: 5.2763 - mae: 1.7175 - val_loss: 16.2586 - val_mae: 2.4934\n",
      "Epoch 86/100\n",
      "354/354 [==============================] - 1s 3ms/step - loss: 5.4620 - mae: 1.7786 - val_loss: 10.5854 - val_mae: 2.1967\n",
      "Epoch 87/100\n",
      "354/354 [==============================] - 1s 3ms/step - loss: 7.5050 - mae: 1.9897 - val_loss: 11.3461 - val_mae: 2.2171\n",
      "Epoch 88/100\n",
      "354/354 [==============================] - 1s 4ms/step - loss: 5.2855 - mae: 1.7673 - val_loss: 14.7993 - val_mae: 2.5894\n",
      "Epoch 89/100\n",
      "354/354 [==============================] - 1s 4ms/step - loss: 5.1950 - mae: 1.6940 - val_loss: 12.2082 - val_mae: 2.3517\n",
      "Epoch 90/100\n",
      "354/354 [==============================] - 2s 5ms/step - loss: 5.5520 - mae: 1.7699 - val_loss: 17.2192 - val_mae: 2.6809\n",
      "Epoch 91/100\n",
      "354/354 [==============================] - 2s 5ms/step - loss: 5.4667 - mae: 1.7256 - val_loss: 14.1107 - val_mae: 2.3817\n",
      "Epoch 92/100\n",
      "354/354 [==============================] - 1s 4ms/step - loss: 4.7675 - mae: 1.6845 - val_loss: 19.7757 - val_mae: 3.1426\n",
      "Epoch 93/100\n",
      "354/354 [==============================] - 1s 4ms/step - loss: 5.1356 - mae: 1.6780 - val_loss: 14.2667 - val_mae: 2.2759\n",
      "Epoch 94/100\n",
      "354/354 [==============================] - 1s 4ms/step - loss: 5.2111 - mae: 1.6928 - val_loss: 18.0272 - val_mae: 2.9353\n",
      "Epoch 95/100\n",
      "354/354 [==============================] - 1s 4ms/step - loss: 4.6557 - mae: 1.6159 - val_loss: 12.6852 - val_mae: 2.3740\n",
      "Epoch 96/100\n",
      "354/354 [==============================] - 1s 4ms/step - loss: 4.8585 - mae: 1.6375 - val_loss: 14.2397 - val_mae: 2.4066\n",
      "Epoch 97/100\n",
      "354/354 [==============================] - 2s 4ms/step - loss: 5.4006 - mae: 1.7064 - val_loss: 18.9607 - val_mae: 2.8328\n",
      "Epoch 98/100\n",
      "354/354 [==============================] - 2s 5ms/step - loss: 4.7461 - mae: 1.6207 - val_loss: 12.4643 - val_mae: 2.3466\n",
      "Epoch 99/100\n",
      "354/354 [==============================] - 2s 5ms/step - loss: 4.9453 - mae: 1.6268 - val_loss: 13.8107 - val_mae: 2.5135\n",
      "Epoch 100/100\n",
      "354/354 [==============================] - 2s 5ms/step - loss: 4.9378 - mae: 1.6384 - val_loss: 17.2710 - val_mae: 2.3857\n"
     ]
    }
   ],
   "source": [
    "history=model.fit(x=x_train_scaled,y=y_train,batch_size=1,verbose=1,epochs=100,validation_data=(x_test_scaled,y_test))"
   ]
  },
  {
   "cell_type": "code",
   "execution_count": 12,
   "id": "5d9058de",
   "metadata": {},
   "outputs": [
    {
     "name": "stdout",
     "output_type": "stream",
     "text": [
      "actual output: 24.0\n",
      "1/1 [==============================] - 0s 282ms/step\n",
      "predicted output: [[21.362158]]\n"
     ]
    }
   ],
   "source": [
    "test_input = [[0.00154995, 0.        , 0.28962963, 0.        , 0.27777778,\n",
    "       0.56936665, 0.70442842, 0.15699879, 0.17391304, 0.3759542 ,\n",
    "       0.88297872, 0.99665297, 0.16851064]]\n",
    "print(\"actual output:\",24.0)\n",
    "print(\"predicted output:\",model.predict(test_input))"
   ]
  },
  {
   "cell_type": "code",
   "execution_count": null,
   "id": "9a8eed45",
   "metadata": {},
   "outputs": [],
   "source": []
  },
  {
   "cell_type": "code",
   "execution_count": 13,
   "id": "f94d08e6",
   "metadata": {},
   "outputs": [
    {
     "data": {
      "image/png": "[encoded data removed]",
      "text/plain": [
       "<Figure size 640x480 with 1 Axes>"
      ]
     },
     "metadata": {},
     "output_type": "display_data"
    }
   ],
   "source": [
    "import matplotlib.pyplot as plt\n",
    "\n",
    "# Plot training & validation loss values\n",
    "plt.plot(history.history['loss'])\n",
    "plt.plot(history.history['val_loss'])\n",
    "plt.title('Model Loss')\n",
    "plt.xlabel('Epoch')\n",
    "plt.ylabel('Loss')\n",
    "plt.legend(['Train', 'Validation'], loc='upper left')\n",
    "plt.show()\n"
   ]
  },
  {
   "cell_type": "code",
   "execution_count": null,
   "id": "9d27e44c",
   "metadata": {},
   "outputs": [],
   "source": []
  }
 ],
 "metadata": {
  "kernelspec": {
   "display_name": "Python 3 (ipykernel)",
   "language": "python",
   "name": "python3"
  },
  "language_info": {
   "codemirror_mode": {
    "name": "ipython",
    "version": 3
   },
   "file_extension": ".py",
   "mimetype": "text/x-python",
   "name": "python",
   "nbconvert_exporter": "python",
   "pygments_lexer": "ipython3",
   "version": "3.9.13"
  }
 },
 "nbformat": 4,
 "nbformat_minor": 5
}
