{
 "cells": [
  {
   "cell_type": "code",
   "execution_count": 1,
   "id": "0ed2df02",
   "metadata": {},
   "outputs": [
    {
     "name": "stdout",
     "output_type": "stream",
     "text": [
      "WARNING:tensorflow:From C:\\python 39\\lib\\site-packages\\keras\\src\\losses.py:2976: The name tf.losses.sparse_softmax_cross_entropy is deprecated. Please use tf.compat.v1.losses.sparse_softmax_cross_entropy instead.\n",
      "\n"
     ]
    }
   ],
   "source": [
    "import numpy as np\n",
    "from tensorflow.keras.datasets import imdb\n",
    "from tensorflow.keras.models import Sequential\n",
    "from tensorflow.keras.layers import Dense, LSTM, Embedding, SpatialDropout1D\n",
    "from tensorflow.keras.preprocessing.sequence import pad_sequences\n",
    "from tensorflow.keras.preprocessing.text import Tokenizer\n",
    "import time"
   ]
  },
  {
   "cell_type": "code",
   "execution_count": 2,
   "id": "36a9cf18",
   "metadata": {},
   "outputs": [
    {
     "name": "stdout",
     "output_type": "stream",
     "text": [
      "Downloading data from https://storage.googleapis.com/tensorflow/tf-keras-datasets/imdb.npz\n",
      "17464789/17464789 [==============================] - 6s 0us/step\n"
     ]
    }
   ],
   "source": [
    "# Load the IMDB dataset\n",
    "max_features = 5000\n",
    "maxlen = 100\n",
    "(X_train, y_train), (X_test, y_test) = imdb.load_data(num_words=max_features)\n"
   ]
  },
  {
   "cell_type": "code",
   "execution_count": 3,
   "id": "2a377993",
   "metadata": {},
   "outputs": [],
   "source": [
    "# Preprocess the data\n",
    "X_train = pad_sequences(X_train, maxlen=maxlen)\n",
    "X_test = pad_sequences(X_test, maxlen=maxlen)"
   ]
  },
  {
   "cell_type": "code",
   "execution_count": 4,
   "id": "59f95de1",
   "metadata": {},
   "outputs": [
    {
     "name": "stdout",
     "output_type": "stream",
     "text": [
      "Downloading data from https://storage.googleapis.com/tensorflow/tf-keras-datasets/imdb_word_index.json\n",
      "1641221/1641221 [==============================] - 0s 0us/step\n"
     ]
    }
   ],
   "source": [
    "# Convert sequences back into text\n",
    "reverse_word_index = dict([(value, key) for (key, value) in imdb.get_word_index().items()])\n",
    "def decode_review(text):\n",
    "    return ' '.join([reverse_word_index.get(i - 3, '?') for i in text])\n",
    "\n",
    "X_train_text = [decode_review(x) for x in X_train]\n",
    "X_test_text = [decode_review(x) for x in X_test]\n",
    "\n",
    "# Create and fit tokenizer\n",
    "tokenizer = Tokenizer(num_words=max_features)\n",
    "tokenizer.fit_on_texts(X_train_text)\n",
    "\n",
    "# Preprocess the data\n",
    "X_train = pad_sequences(tokenizer.texts_to_sequences(X_train_text), maxlen=maxlen)\n",
    "X_test = pad_sequences(tokenizer.texts_to_sequences(X_test_text), maxlen=maxlen)"
   ]
  },
  {
   "cell_type": "code",
   "execution_count": 5,
   "id": "4cd8ccc4",
   "metadata": {},
   "outputs": [],
   "source": [
    "# Create and fit tokenizer\n",
    "#tokenizer = Tokenizer(num_words=max_features)\n",
    "#tokenizer.fit_on_texts(X_train)\n"
   ]
  },
  {
   "cell_type": "code",
   "execution_count": 6,
   "id": "f5769332",
   "metadata": {},
   "outputs": [
    {
     "name": "stdout",
     "output_type": "stream",
     "text": [
      "WARNING:tensorflow:From C:\\python 39\\lib\\site-packages\\keras\\src\\backend.py:873: The name tf.get_default_graph is deprecated. Please use tf.compat.v1.get_default_graph instead.\n",
      "\n"
     ]
    }
   ],
   "source": [
    "# Build the model\n",
    "model = Sequential()\n",
    "model.add(Embedding(max_features, 128, input_length=maxlen))\n",
    "model.add(SpatialDropout1D(0.2))\n",
    "model.add(LSTM(64, dropout=0.2, recurrent_dropout=0.2))\n",
    "model.add(Dense(1, activation='sigmoid'))\n"
   ]
  },
  {
   "cell_type": "code",
   "execution_count": 7,
   "id": "a5c562a3",
   "metadata": {},
   "outputs": [
    {
     "name": "stdout",
     "output_type": "stream",
     "text": [
      "WARNING:tensorflow:From C:\\python 39\\lib\\site-packages\\keras\\src\\optimizers\\__init__.py:309: The name tf.train.Optimizer is deprecated. Please use tf.compat.v1.train.Optimizer instead.\n",
      "\n"
     ]
    }
   ],
   "source": [
    "model.compile(loss='binary_crossentropy', optimizer='adam', metrics=['accuracy'])\n"
   ]
  },
  {
   "cell_type": "code",
   "execution_count": 8,
   "id": "bca2b7a7",
   "metadata": {},
   "outputs": [],
   "source": [
    "# Train the model\n",
    "batch_size = 32\n",
    "epochs = 5\n",
    "#model.fit(X_train, y_train, validation_data=(X_test, y_test), epochs=epochs, batch_size=batch_size)"
   ]
  },
  {
   "cell_type": "code",
   "execution_count": 9,
   "id": "27577a7c",
   "metadata": {},
   "outputs": [
    {
     "name": "stdout",
     "output_type": "stream",
     "text": [
      "Epoch 1/5\n",
      "WARNING:tensorflow:From C:\\python 39\\lib\\site-packages\\keras\\src\\utils\\tf_utils.py:492: The name tf.ragged.RaggedTensorValue is deprecated. Please use tf.compat.v1.ragged.RaggedTensorValue instead.\n",
      "\n",
      "WARNING:tensorflow:From C:\\python 39\\lib\\site-packages\\keras\\src\\engine\\base_layer_utils.py:384: The name tf.executing_eagerly_outside_functions is deprecated. Please use tf.compat.v1.executing_eagerly_outside_functions instead.\n",
      "\n",
      "782/782 [==============================] - 128s 156ms/step - loss: 0.4186 - accuracy: 0.8040 - val_loss: 0.3392 - val_accuracy: 0.8497\n",
      "Epoch 2/5\n",
      "782/782 [==============================] - 117s 150ms/step - loss: 0.2953 - accuracy: 0.8759 - val_loss: 0.3517 - val_accuracy: 0.8440\n",
      "Epoch 3/5\n",
      "782/782 [==============================] - 113s 145ms/step - loss: 0.2506 - accuracy: 0.8988 - val_loss: 0.3563 - val_accuracy: 0.8482\n",
      "Epoch 4/5\n",
      "782/782 [==============================] - 116s 148ms/step - loss: 0.2090 - accuracy: 0.9175 - val_loss: 0.3962 - val_accuracy: 0.8369\n",
      "Epoch 5/5\n",
      "782/782 [==============================] - 117s 149ms/step - loss: 0.1794 - accuracy: 0.9295 - val_loss: 0.4120 - val_accuracy: 0.8419\n"
     ]
    }
   ],
   "source": [
    "start_time = time.time()\n",
    "model.fit(X_train, y_train, validation_data=(X_test, y_test), epochs=epochs, batch_size=batch_size)\n",
    "training_time = time.time() - start_time\n"
   ]
  },
  {
   "cell_type": "code",
   "execution_count": 10,
   "id": "52e4be46",
   "metadata": {},
   "outputs": [
    {
     "name": "stdout",
     "output_type": "stream",
     "text": [
      "782/782 [==============================] - 18s 23ms/step - loss: 0.4120 - accuracy: 0.8419\n",
      "Test accuracy: 0.841920018196106\n"
     ]
    }
   ],
   "source": [
    "# Evaluate the model\n",
    "start_time = time.time()\n",
    "\n",
    "score, acc = model.evaluate(X_test, y_test, batch_size=batch_size)\n",
    "prediction_time = time.time() - start_time\n",
    "\n",
    "print(\"Test accuracy:\", acc)"
   ]
  },
  {
   "cell_type": "code",
   "execution_count": 11,
   "id": "7a82308a",
   "metadata": {},
   "outputs": [],
   "source": [
    "#print(\"Test accuracy:\", acc)\n",
    "#print(\"Training time:\", training_time, \"seconds\")\n",
    "#print(\"Prediction time:\", prediction_time, \"seconds\")"
   ]
  },
  {
   "cell_type": "code",
   "execution_count": 12,
   "id": "b6da2656",
   "metadata": {},
   "outputs": [],
   "source": [
    "# Function to preprocess user input\n",
    "def preprocess_input(user_input):\n",
    "    from tensorflow.keras.preprocessing.sequence import pad_sequences\n",
    "    sequences = tokenizer.texts_to_sequences(user_input)\n",
    "    return pad_sequences(sequences, maxlen=maxlen)\n",
    "   \n",
    "#from tensorflow.keras.preprocessing.text import Tokenizer\n",
    "    #tokenizer = Tokenizer(num_words=max_features)\n",
    "    #tokenizer.fit_on_texts(user_input)\n",
    "    #sequences = tokenizer.texts_to_sequences(user_input)\n",
    "    #return pad_sequences(sequences, maxlen=maxlen)"
   ]
  },
  {
   "cell_type": "code",
   "execution_count": 13,
   "id": "5c6fc8cf",
   "metadata": {},
   "outputs": [],
   "source": [
    "# Function to predict sentiment\n",
    "def predict_sentiment(review):\n",
    "    review = preprocess_input([review])\n",
    "    prediction = model.predict(review)[0][0]\n",
    "    if prediction >= 0.5:\n",
    "        return \"Positive\"\n",
    "    else:\n",
    "        return \"Negative\""
   ]
  },
  {
   "cell_type": "code",
   "execution_count": 14,
   "id": "06a57183",
   "metadata": {},
   "outputs": [
    {
     "name": "stdout",
     "output_type": "stream",
     "text": [
      "Welcome to Movie Review Sentiment Analyzer!\n"
     ]
    }
   ],
   "source": [
    "# User Interface\n",
    "print(\"Welcome to Movie Review Sentiment Analyzer!\")"
   ]
  },
  {
   "cell_type": "code",
   "execution_count": 16,
   "id": "fdc3962d",
   "metadata": {},
   "outputs": [
    {
     "name": "stdout",
     "output_type": "stream",
     "text": [
      "Enter your movie review (or type 'quit' to exit): good movie\n",
      "1/1 [==============================] - 0s 72ms/step\n",
      "Predicted sentiment: Positive\n",
      "Enter your movie review (or type 'quit' to exit): You can tell its directed by a South Indian but that's what make it beautiful. Insane cameos, powerful cinematography. Imo one of the best SRK action movies. The fights were engaging, little humor everywhere created very good atmosphere.  After watching Pathaan where they had a very dull climax, I wasn't hyped a lot for this movie, hell barely saw the trailer but entering the cinema my views changed. Flying start, story was somewhat new but also had a lot of inspiration from previous series like Money Heist.  Someone who never hates on South Indian style action, this movie provides just that but with a high budget which you can see throughout the movie.\n",
      "1/1 [==============================] - 0s 61ms/step\n",
      "Predicted sentiment: Positive\n",
      "Enter your movie review (or type 'quit' to exit): I just could not believe my eyes when i was 30 mins into this piece of trash. How many times was this story done in the 1989s in Hindi as well as South Indian movies? Why is it being repeated shamelessly in 2023? Just because it's SRK movie? Seriously? Then, another major concern is that if this is the future of Tamil-Hindi cinema collaboration, I am happy with watching selected Hindi movies only. Let me explain. Typically Tamil action movies with superstars(like Rajnikant) have each and every action scene either in slow motion or all the vehicles are running in 1.5 times to 2 times the speed, same for bikes! Doesn't stop there, it is exactly the same with dialogues, the last words of a sentence are not over and the editor keeps switching to the other person eith such a speed that even in delicate romantic scenes there is no delicacy. Till the end, it was like watching an anime movie with no respect for a cinema viewer's sensibility. No, this movie is an action movie you will say, but the rhythm of the action, dialigues and Editing is something that probably the Tamil audience is used to watching and I respect that fact. Just that the editing and rhythm is totally different from that of Hindi movies, and Hindi movie viewers are used to a certain rhythm of dialogues, movements, a certain gap between dialogues, etc etc. This Hindi movie directed by a Tamil director feels like you are watching a Tamil movie dubbed in Hindi, in each and every scene!! Throughout you get a feel you are not watching a Hindi movie at all, something is alien, something is missing. All the songs except for the end title one. Do not sound like Hindi movie songs either. If this is how the future of Tamil Hindi movies collaboration looks like, please give us a Hindi movie directed by a Hindi language understanding director only, please please!! This movie was a torture to watch. Hope you understand Hindi movie producers!! Thankyou!!\n",
      "1/1 [==============================] - 0s 65ms/step\n",
      "Predicted sentiment: Negative\n",
      "Enter your movie review (or type 'quit' to exit): quit\n",
      "Thank you for using our service!\n"
     ]
    }
   ],
   "source": [
    "while True:\n",
    "    user_review = input(\"Enter your movie review (or type 'quit' to exit): \")\n",
    "    if user_review.lower() == 'quit':\n",
    "        print(\"Thank you for using our service!\")\n",
    "        break\n",
    "    else:\n",
    "        sentiment = predict_sentiment(user_review)\n",
    "        print(\"Predicted sentiment:\", sentiment)"
   ]
  },
  {
   "cell_type": "code",
   "execution_count": null,
   "id": "465c2c03",
   "metadata": {},
   "outputs": [],
   "source": []
  },
  {
   "cell_type": "code",
   "execution_count": null,
   "id": "bb5022d8",
   "metadata": {},
   "outputs": [],
   "source": []
  }
 ],
 "metadata": {
  "kernelspec": {
   "display_name": "Python 3 (ipykernel)",
   "language": "python",
   "name": "python3"
  },
  "language_info": {
   "codemirror_mode": {
    "name": "ipython",
    "version": 3
   },
   "file_extension": ".py",
   "mimetype": "text/x-python",
   "name": "python",
   "nbconvert_exporter": "python",
   "pygments_lexer": "ipython3",
   "version": "3.9.7"
  }
 },
 "nbformat": 4,
 "nbformat_minor": 5
}
