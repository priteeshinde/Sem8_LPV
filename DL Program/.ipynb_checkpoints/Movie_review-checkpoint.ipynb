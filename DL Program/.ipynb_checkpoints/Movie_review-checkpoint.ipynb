{
 "cells": [
  {
   "cell_type": "code",
   "execution_count": null,
   "id": "1d45aed4",
   "metadata": {},
   "outputs": [],
   "source": [
    "import numpy as np\n",
    "from tensorflow.keras.models import Sequential\n",
    "from tensorflow.keras.layers import Dense, LSTM, Embedding, SpatialDropout1D\n",
    "from tensorflow.keras.datasets import imdb\n",
    "from tensorflow.keras.preprocessing.sequence import pad_sequences\n",
    "from tensorflow.keras.preprocessing.text import Tokenizer"
   ]
  },
  {
   "cell_type": "code",
   "execution_count": null,
   "id": "da9253af",
   "metadata": {},
   "outputs": [],
   "source": [
    "max_feature=5000\n",
    "maxlen=100\n",
    "(x_train, y_train), (x_test,y_test)=imdb.load_data(num_words=max_feature)"
   ]
  },
  {
   "cell_type": "code",
   "execution_count": null,
   "id": "9c6eedd8",
   "metadata": {},
   "outputs": [],
   "source": [
    "x_train=pad_sequences(x_train,maxlen=maxlen)\n",
    "x_test=pad_sequences(x_test,maxlen=maxlen)"
   ]
  },
  {
   "cell_type": "code",
   "execution_count": null,
   "id": "c39fa21c",
   "metadata": {},
   "outputs": [],
   "source": [
    "#convert sequences back into text\n",
    "reverse_word_index=dict((value,key) for (key,value) in imdb.get_word_index().items())\n",
    "def decode_review(text):\n",
    "    return ' '.join([reverse_word_index.get(i-3, '?') for i in text])\n",
    "\n",
    "x_train_text = [decode_review(x) for x in x_train]\n",
    "x_test_text = [decode_review(x) for x in x_test]\n",
    "\n",
    "tokenizer = Tokenizer(num_words=max_feature)\n",
    "tokenizer.fit_on_texts(x_train_text)\n",
    "x_train=pad_sequences(tokenizer.texts_to_sequences(x_train_text), maxlen=maxlen)\n",
    "x_test=pad_sequences(tokenizer.texts_to_sequences(x_test_text), maxlen=maxlen)"
   ]
  },
  {
   "cell_type": "code",
   "execution_count": null,
   "id": "35e6aef3",
   "metadata": {},
   "outputs": [],
   "source": [
    "model = Sequential()\n",
    "model.add(Embedding(max_feature, 128, input_length=maxlen))\n",
    "model.add(LSTM(64, dropout=0.2, recurrent_dropout=0.2))\n",
    "model.add(Dense(1, activation='sigmoid'))"
   ]
  },
  {
   "cell_type": "code",
   "execution_count": null,
   "id": "1390b173",
   "metadata": {},
   "outputs": [],
   "source": [
    "model.compile(loss='binary_crossentropy', optimizer='adam', metrics=['accuracy'])\n",
    "model.fit(x_train, y_train, validation_data=(x_test, y_test), epochs=5, batch_size=32)"
   ]
  },
  {
   "cell_type": "code",
   "execution_count": null,
   "id": "592c048a",
   "metadata": {},
   "outputs": [],
   "source": [
    "score, acc=model.evaluate(x_test, y_test, batch_size=32)\n",
    "print('Test accuracy: ', acc)"
   ]
  },
  {
   "cell_type": "code",
   "execution_count": null,
   "id": "e8e5dae3",
   "metadata": {},
   "outputs": [],
   "source": [
    "from tensorflow.keras.preprocessing.sequence import pad_sequences\n",
    "\n",
    "def preprocess_input(user_input):\n",
    "    sequences = tokenizer.texts_to_sequences(user_input)\n",
    "    return pad_sequences(sequences, maxlen=maxlen)"
   ]
  },
  {
   "cell_type": "code",
   "execution_count": null,
   "id": "820ff685",
   "metadata": {},
   "outputs": [],
   "source": [
    "def predict_sentiment(review):\n",
    "    review = preprocess_input([review])\n",
    "    prediction = model.predict(review)[0][0]\n",
    "    if prediction >= 0.5:\n",
    "        return \"Positive\"\n",
    "    else:\n",
    "        return \"Negative\""
   ]
  },
  {
   "cell_type": "code",
   "execution_count": null,
   "id": "e50d5615",
   "metadata": {},
   "outputs": [],
   "source": [
    "while True:\n",
    "    user_review = input(\"Enter your movie review (or type 'quit' to exit): \")\n",
    "    if user_review.lower() == 'quit':\n",
    "        print(\"Thank you for using our service!\")\n",
    "        break\n",
    "    else:\n",
    "        sentiment = predict_sentiment(user_review)\n",
    "        print(\"Predicted sentiment:\", sentiment)"
   ]
  },
  {
   "cell_type": "code",
   "execution_count": null,
   "id": "04cf522d",
   "metadata": {},
   "outputs": [],
   "source": []
  }
 ],
 "metadata": {
  "kernelspec": {
   "display_name": "Python 3 (ipykernel)",
   "language": "python",
   "name": "python3"
  },
  "language_info": {
   "codemirror_mode": {
    "name": "ipython",
    "version": 3
   },
   "file_extension": ".py",
   "mimetype": "text/x-python",
   "name": "python",
   "nbconvert_exporter": "python",
   "pygments_lexer": "ipython3",
   "version": "3.9.13"
  }
 },
 "nbformat": 4,
 "nbformat_minor": 5
}
